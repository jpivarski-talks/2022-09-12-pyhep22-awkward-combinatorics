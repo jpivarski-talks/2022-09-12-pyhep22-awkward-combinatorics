{
 "cells": [
  {
   "cell_type": "markdown",
   "id": "4187e701-98e8-4fe3-9078-c760baf51000",
   "metadata": {},
   "source": [
    "# Combinatorics with Uproot and Awkward Arrays"
   ]
  },
  {
   "cell_type": "markdown",
   "id": "a088ca05-1907-4f46-ae6b-ec8b6f76a995",
   "metadata": {},
   "source": [
    "In this presentation, I'll show a **basic** and an **advanced** analysis using Uproot-Awkward Array-Vector-Hist.\n",
    "\n",
    "I'll leave a lot of time open for questions, since that is the advantage of a live session over a pre-recorded tutorial.\n",
    "\n",
    "If you'd like to see similar tutorials, all focusing on different things, you can find them online:\n",
    "\n",
    "| <!-- --> | <!-- --> | <!-- --> | <!-- --> | <!-- --> |\n",
    "|:--|:--|:--|:--|:--|\n",
    "| 2020 | EIC collaboration tutorial | | [notebooks](https://github.com/jpivarski-talks/2020-04-08-eic-jlab#readme) | [video](https://www.youtube.com/watch?v=FoxNS6nlbD0) |\n",
    "| 2020 | CMS HATS tutorial | | [notebooks](https://github.com/jpivarski/2020-06-08-uproot-awkward-columnar-hats#readme) | |\n",
    "| 2020 | SciPy talk | non-HEP | [notebooks](https://github.com/jpivarski-talks/2020-07-06-scipy2020/blob/master/bikeroutes-execution.ipynb) | [video](https://youtu.be/WlnUF3LRBj4) |\n",
    "| 2020 | PyHEP tutorial | | [notebooks](https://github.com/jpivarski/2020-07-13-pyhep2020-tutorial#readme) | [video](https://youtu.be/ea-zYLQBS4U) |\n",
    "| 2021 | CMS HATS tutorial | | [notebooks](https://github.com/jpivarski-talks/2021-06-14-uproot-awkward-columnar-hats#readme) | |\n",
    "| 2021 | PyHEP tutorial | | [notebooks](https://github.com/jpivarski-talks/2021-07-06-pyhep-uproot-awkward-tutorial#readme) | [video](https://youtu.be/s47Nz0h0vcg) |\n",
    "| 2021 | STAR collaboration tutorial | | [notebooks](https://github.com/jpivarski-talks/2021-09-13-star-uproot-awkward-tutorial#readme) | |\n",
    "| 2022 | PyHEP topical meeting | | [notebooks](https://indico.cern.ch/event/1140031/) | |\n",
    "| 2022 | SciPy tutorial | non-HEP | [notebooks](https://github.com/jpivarski-talks/2022-07-11-scipy-loopy-tutorial#readme) | [video](https://youtu.be/Dovyd72eD70) |\n",
    "| 2022 | CoDaS-HEP tutorial | | [notebooks](https://github.com/jpivarski-talks/2022-08-03-codas-hep-columnar-tutorial#readme) | |\n",
    "\n",
    "This presentation will also use Uproot version 5 and Awkward version 2, which will be fully released in December. For now,\n",
    "\n",
    "```bash\n",
    "pip install --pre uproot awkward\n",
    "```\n",
    "\n",
    "and"
   ]
  },
  {
   "cell_type": "code",
   "execution_count": 1,
   "id": "109053c3-3074-4bd5-954f-24673d832630",
   "metadata": {},
   "outputs": [],
   "source": [
    "import uproot"
   ]
  },
  {
   "cell_type": "code",
   "execution_count": 2,
   "id": "73a09d9e-ea86-49c7-87f4-8b2149d546ae",
   "metadata": {},
   "outputs": [],
   "source": [
    "import awkward._v2 as ak"
   ]
  },
  {
   "cell_type": "markdown",
   "id": "33241fa2-e22c-47cc-9757-0ac86e7ae521",
   "metadata": {},
   "source": [
    "<br><br><br><br><br>"
   ]
  },
  {
   "cell_type": "markdown",
   "id": "54c4a955-f443-4b12-8153-ec6ffe5e1006",
   "metadata": {},
   "source": [
    "## Overview"
   ]
  },
  {
   "cell_type": "markdown",
   "id": "e2d3f297-0501-4c9c-8888-ea3c5c0cf9ad",
   "metadata": {},
   "source": [
    "Just as in the broader Python world, functionality in Scikit-HEP is provided by small, specialized, interoperating libraries that build on each other."
   ]
  },
  {
   "cell_type": "markdown",
   "id": "dcc9b413-1a4d-4227-8721-360e705f2169",
   "metadata": {},
   "source": [
    "<table width=\"1000px\"><tr style=\"background: white\">\n",
    "    <td align=\"center\" width=\"50%\" style=\"font-size: 24px; font-weight: bold\">Scientific Python ecosystem</td>\n",
    "    <td align=\"center\" width=\"50%\" style=\"font-size: 24px; font-weight: bold\">Scikit-HEP ecosystem</td>\n",
    "</tr><tr style=\"background: white\">\n",
    "    <td align=\"center\" width=\"50%\"><img src=\"img/shells-border.png\" width=\"95%\"></td>\n",
    "    <td align=\"center\" width=\"50%\"><img src=\"img/shells-hep.svg\" width=\"95%\"></td>\n",
    "</tr></table>\n",
    "\n",
    "<br><br><br><br><br>"
   ]
  },
  {
   "cell_type": "markdown",
   "id": "aef55d11-9b51-42de-b424-5f345f9452bf",
   "metadata": {},
   "source": [
    "## Libraries used in this talk"
   ]
  },
  {
   "cell_type": "markdown",
   "id": "bfab4fd2-cbcf-47a9-ad73-c99def888088",
   "metadata": {},
   "source": [
    "<br><br>\n",
    "\n",
    "<img src=\"img/uproot-logo.png\" width=\"200px\">\n",
    "\n",
    "<p style=\"font-size: 14pt\">Reads ROOT data as <span style=\"background: yellow\">arrays</span>.</p>\n",
    "\n",
    "<br><br>\n",
    "\n",
    "<img src=\"img/awkward-logo.png\" width=\"200px\">\n",
    "\n",
    "<p style=\"font-size: 14pt\">Manipulates <span style=\"background: yellow\">arrays</span> of arbitrary data structures.</p>\n",
    "\n",
    "<br><br>\n",
    "\n",
    "<img src=\"img/vector-logo.png\" width=\"200px\">\n",
    "\n",
    "<p style=\"font-size: 14pt\">Transforms <span style=\"background: yellow\">arrays</span> of 2D, 3D, and Lorentz vectors.</p>\n",
    "\n",
    "<br><br>\n",
    "\n",
    "<img src=\"img/hist-logo.png\" width=\"200px\">\n",
    "\n",
    "<p style=\"font-size: 14pt\">Fills histograms from <span style=\"background: yellow\">arrays</span> of data.</p>\n",
    "\n",
    "<br><br>\n",
    "\n",
    "<b>Using them effectively will require thinking about whole arrays at a time.</b>\n",
    "\n",
    "<br><br><br>"
   ]
  },
  {
   "cell_type": "markdown",
   "id": "39b4384b-49fb-431a-add8-7a44e46fc35c",
   "metadata": {},
   "source": [
    "## Array-at-a-time thinking and interactivity"
   ]
  },
  {
   "cell_type": "markdown",
   "id": "31200110-52a2-4113-b90e-e94102bdfa14",
   "metadata": {},
   "source": [
    "There's a long history of _array-oriented_ languages, which take arrays as the fundamental data type."
   ]
  },
  {
   "cell_type": "markdown",
   "id": "94983d0a-ab0a-4892-9a25-b5e709f0e933",
   "metadata": {},
   "source": [
    "<img src=\"img/apl-timeline.svg\" width=\"800\">\n",
    "\n",
    "<br><br><br>"
   ]
  },
  {
   "cell_type": "markdown",
   "id": "a21f49c2-7069-41f1-9e6b-9b16ddf6f0da",
   "metadata": {},
   "source": [
    "Interestingly enough, they all (except Fortran 90 and Dex) are _interactive_, command-line or notebook-driven languages.\n",
    "\n",
    "<br>\n",
    "\n",
    "It's because they focus on problems in which we want to know what happens to whole distributions, not individual values.\n",
    "\n",
    "<br>\n",
    "\n",
    "For example,"
   ]
  },
  {
   "cell_type": "code",
   "execution_count": 3,
   "id": "d7a3ddad-11ac-41fb-a6d8-dd1d160d7409",
   "metadata": {},
   "outputs": [],
   "source": [
    "import numpy as np\n",
    "import matplotlib.pyplot as plt"
   ]
  },
  {
   "cell_type": "markdown",
   "id": "6bb4da3e-1e33-4352-8e53-de17b35339c1",
   "metadata": {},
   "source": [
    "<br><br>\n",
    "\n",
    "Suppose we start with a Gaussian-distributed dataset."
   ]
  },
  {
   "cell_type": "code",
   "execution_count": 4,
   "id": "2fabf753-9a41-4989-8104-6d417e6ab950",
   "metadata": {},
   "outputs": [],
   "source": [
    "dataset = np.random.normal(0, 1, 1000000)  # one MILLION data points"
   ]
  },
  {
   "cell_type": "markdown",
   "id": "bec3b4c7-91a0-4445-ac82-fde52b7e470c",
   "metadata": {},
   "source": [
    "<br><br>\n",
    "\n",
    "\"How are they distributed?\""
   ]
  },
  {
   "cell_type": "code",
   "execution_count": 5,
   "id": "8cb71688-9e50-4ef5-93a5-9c2762f917fd",
   "metadata": {},
   "outputs": [
    {
     "data": {
      "image/png": "[encoded data removed]",
      "text/plain": [
       "<Figure size 640x480 with 1 Axes>"
      ]
     },
     "metadata": {},
     "output_type": "display_data"
    }
   ],
   "source": [
    "plt.hist(dataset, bins=100);"
   ]
  },
  {
   "cell_type": "markdown",
   "id": "ac34fe07-1010-4658-9d8a-a3b33a1a20d2",
   "metadata": {},
   "source": [
    "<br><br>\n",
    "\n",
    "\"How is the square of each point distributed?\""
   ]
  },
  {
   "cell_type": "code",
   "execution_count": 6,
   "id": "d650e80e-4c4e-4205-85c7-ab7ceb74f8f4",
   "metadata": {},
   "outputs": [
    {
     "data": {
      "image/png": "[encoded data removed]",
      "text/plain": [
       "<Figure size 640x480 with 1 Axes>"
      ]
     },
     "metadata": {},
     "output_type": "display_data"
    }
   ],
   "source": [
    "plt.hist(dataset**2, bins=100);"
   ]
  },
  {
   "cell_type": "markdown",
   "id": "eb96d11b-2c17-4509-8658-15737d952ffa",
   "metadata": {},
   "source": [
    "<br><br>\n",
    "\n",
    "\"What about this weirdo function?\""
   ]
  },
  {
   "cell_type": "code",
   "execution_count": 7,
   "id": "e8843bee-d3aa-40ae-a5df-0ab2a915aca0",
   "metadata": {},
   "outputs": [
    {
     "data": {
      "image/png": "[encoded data removed]",
      "text/plain": [
       "<Figure size 640x480 with 1 Axes>"
      ]
     },
     "metadata": {},
     "output_type": "display_data"
    }
   ],
   "source": [
    "plt.hist(np.sin(1/dataset**2), bins=100);"
   ]
  },
  {
   "cell_type": "markdown",
   "id": "a5e6380b-f5c7-4f9d-bbd2-d1e2bd516fd8",
   "metadata": {},
   "source": [
    "<br><br>\n",
    "\n",
    "The shape of the last distribution would have been hard to guess, and as long as we're in \"compute operation, plot, compute operation, plot\" mode, setting up `for` loops would be a hindrance.\n",
    "\n",
    "<br><br>\n",
    "\n",
    "Array-oriented computations and interactivity go together. If you don't like Jupyter, consider IPython, the basic Python prompt, or IDE features that let you interact with an ongoing session. Don't just run a script until you've already figured out the details of your project.\n",
    "\n",
    "<br><br><br><br><br>"
   ]
  },
  {
   "cell_type": "markdown",
   "id": "d3a59814-6966-4c09-af07-d5eb93284b0e",
   "metadata": {},
   "source": [
    "## Basic Uproot"
   ]
  },
  {
   "cell_type": "markdown",
   "id": "db3d2276-5fe4-4237-852c-ffc9c49a1bf2",
   "metadata": {},
   "source": [
    "Uproot is a reimplementation of ROOT I/O in Python, with no dependence on C++ ROOT."
   ]
  },
  {
   "cell_type": "markdown",
   "id": "fef73c2d-283c-4ebd-9200-5dd7bd998ac8",
   "metadata": {},
   "source": [
    "<img src=\"img/abstraction-layers.svg\" width=\"800\">\n",
    "\n",
    "<br><br><br>"
   ]
  },
  {
   "cell_type": "markdown",
   "id": "9c56dd46-c744-46aa-bfb4-ffc7509cfa8d",
   "metadata": {},
   "source": [
    "### Example of an interactive session"
   ]
  },
  {
   "cell_type": "markdown",
   "id": "539dfd85-97f2-4f98-bf58-b51e3db69c67",
   "metadata": {},
   "source": [
    "<br><br>\n",
    "\n",
    "\"Where's my file?\""
   ]
  },
  {
   "cell_type": "code",
   "execution_count": 8,
   "id": "d9abe970-c356-4015-b745-884812204ec2",
   "metadata": {},
   "outputs": [
    {
     "name": "stdout",
     "output_type": "stream",
     "text": [
      "total 552\n",
      "drwxr-xr-x   3 jpivarski  staff      96 Sep 11 12:48 \u001b[34mdata\u001b[m\u001b[m\n",
      "drwxr-xr-x  10 jpivarski  staff     320 Sep 11 12:49 \u001b[34mimg\u001b[m\u001b[m\n",
      "-rw-r--r--   1 jpivarski  staff  279164 Sep 11 14:43 pyhep2022-uproot-and-awkward-array.ipynb\n"
     ]
    }
   ],
   "source": [
    "!ls -l"
   ]
  },
  {
   "cell_type": "code",
   "execution_count": 9,
   "id": "f640b2ec-f390-44f7-8cf9-2af9abc1790f",
   "metadata": {},
   "outputs": [
    {
     "name": "stdout",
     "output_type": "stream",
     "text": [
      "total 82816\n",
      "-rw-r--r--  1 jpivarski  staff  42400229 Sep 11 12:48 SMHiggsToZZTo4L.root\n"
     ]
    }
   ],
   "source": [
    "!ls -l data"
   ]
  },
  {
   "cell_type": "markdown",
   "id": "30f7c6fe-f52f-404a-bdbe-f6da1af2e5f0",
   "metadata": {},
   "source": [
    "<br><br>\n",
    "\n",
    "\"Open it in Uproot.\""
   ]
  },
  {
   "cell_type": "code",
   "execution_count": 10,
   "id": "3aaa37de-4dfd-43dc-8ae8-bcc71195dea3",
   "metadata": {},
   "outputs": [
    {
     "data": {
      "text/plain": [
       "<ReadOnlyDirectory '/' at 0x00011e7174c0>"
      ]
     },
     "execution_count": 10,
     "metadata": {},
     "output_type": "execute_result"
    }
   ],
   "source": [
    "file = uproot.open(\"data/SMHiggsToZZTo4L.root\")\n",
    "file"
   ]
  },
  {
   "cell_type": "markdown",
   "id": "9f492326-970a-4377-8b98-97dce984fb46",
   "metadata": {},
   "source": [
    "<br><br>\n",
    "\n",
    "\"What's in the file?\""
   ]
  },
  {
   "cell_type": "code",
   "execution_count": 11,
   "id": "b40fdb35-3203-4da1-a415-6943c5b91f90",
   "metadata": {},
   "outputs": [
    {
     "data": {
      "text/plain": [
       "['Events;1']"
      ]
     },
     "execution_count": 11,
     "metadata": {},
     "output_type": "execute_result"
    }
   ],
   "source": [
    "file.keys()"
   ]
  },
  {
   "cell_type": "markdown",
   "id": "caeef5d6-c5eb-4478-9fd0-409a7db9e382",
   "metadata": {},
   "source": [
    "<br><br>\n",
    "\n",
    "\"What kind of object is 'Events'?\""
   ]
  },
  {
   "cell_type": "code",
   "execution_count": 12,
   "id": "5b141aa9-6d0f-4ef9-af75-f16589341a51",
   "metadata": {},
   "outputs": [
    {
     "data": {
      "text/plain": [
       "{'Events;1': 'TTree'}"
      ]
     },
     "execution_count": 12,
     "metadata": {},
     "output_type": "execute_result"
    }
   ],
   "source": [
    "file.classnames()"
   ]
  },
  {
   "cell_type": "markdown",
   "id": "54574f8d-b1ea-4652-a02d-3ba7f2db7916",
   "metadata": {},
   "source": [
    "<br><br>\n",
    "\n",
    "\"Get the TTree metadata (not the whole arrays; not yet).\""
   ]
  },
  {
   "cell_type": "code",
   "execution_count": 13,
   "id": "d3743938-0917-4c7f-b0fd-5d6e779f1b96",
   "metadata": {},
   "outputs": [
    {
     "data": {
      "text/plain": [
       "<TTree 'Events' (32 branches) at 0x00011e875b40>"
      ]
     },
     "execution_count": 13,
     "metadata": {},
     "output_type": "execute_result"
    }
   ],
   "source": [
    "tree = file[\"Events\"]\n",
    "tree"
   ]
  },
  {
   "cell_type": "code",
   "execution_count": 14,
   "id": "a4a199fe-a559-4ce4-b9cb-5bbc9ee4d01a",
   "metadata": {},
   "outputs": [
    {
     "data": {
      "text/plain": [
       "299973"
      ]
     },
     "execution_count": 14,
     "metadata": {},
     "output_type": "execute_result"
    }
   ],
   "source": [
    "tree.num_entries"
   ]
  },
  {
   "cell_type": "markdown",
   "id": "f1db9801-4e5a-4ce0-9198-370d7d7f0c11",
   "metadata": {},
   "source": [
    "<br><br>\n",
    "\n",
    "\"What kinds of data are in the TTree?\""
   ]
  },
  {
   "cell_type": "code",
   "execution_count": 15,
   "id": "eeb3cdd7-ed75-4aab-ab32-106c23afaa08",
   "metadata": {},
   "outputs": [
    {
     "name": "stdout",
     "output_type": "stream",
     "text": [
      "name                 | typename                 | interpretation                \n",
      "---------------------+--------------------------+-------------------------------\n",
      "run                  | int32_t                  | AsDtype('>i4')\n",
      "luminosityBlock      | uint32_t                 | AsDtype('>u4')\n",
      "event                | uint64_t                 | AsDtype('>u8')\n",
      "PV_npvs              | int32_t                  | AsDtype('>i4')\n",
      "PV_x                 | float                    | AsDtype('>f4')\n",
      "PV_y                 | float                    | AsDtype('>f4')\n",
      "PV_z                 | float                    | AsDtype('>f4')\n",
      "nMuon                | uint32_t                 | AsDtype('>u4')\n",
      "Muon_pt              | float[]                  | AsJagged(AsDtype('>f4'))\n",
      "Muon_eta             | float[]                  | AsJagged(AsDtype('>f4'))\n",
      "Muon_phi             | float[]                  | AsJagged(AsDtype('>f4'))\n",
      "Muon_mass            | float[]                  | AsJagged(AsDtype('>f4'))\n",
      "Muon_charge          | int32_t[]                | AsJagged(AsDtype('>i4'))\n",
      "Muon_pfRelIso03_all  | float[]                  | AsJagged(AsDtype('>f4'))\n",
      "Muon_pfRelIso04_all  | float[]                  | AsJagged(AsDtype('>f4'))\n",
      "Muon_dxy             | float[]                  | AsJagged(AsDtype('>f4'))\n",
      "Muon_dxyErr          | float[]                  | AsJagged(AsDtype('>f4'))\n",
      "Muon_dz              | float[]                  | AsJagged(AsDtype('>f4'))\n",
      "Muon_dzErr           | float[]                  | AsJagged(AsDtype('>f4'))\n",
      "nElectron            | uint32_t                 | AsDtype('>u4')\n",
      "Electron_pt          | float[]                  | AsJagged(AsDtype('>f4'))\n",
      "Electron_eta         | float[]                  | AsJagged(AsDtype('>f4'))\n",
      "Electron_phi         | float[]                  | AsJagged(AsDtype('>f4'))\n",
      "Electron_mass        | float[]                  | AsJagged(AsDtype('>f4'))\n",
      "Electron_charge      | int32_t[]                | AsJagged(AsDtype('>i4'))\n",
      "Electron_pfRelIso... | float[]                  | AsJagged(AsDtype('>f4'))\n",
      "Electron_dxy         | float[]                  | AsJagged(AsDtype('>f4'))\n",
      "Electron_dxyErr      | float[]                  | AsJagged(AsDtype('>f4'))\n",
      "Electron_dz          | float[]                  | AsJagged(AsDtype('>f4'))\n",
      "Electron_dzErr       | float[]                  | AsJagged(AsDtype('>f4'))\n",
      "MET_pt               | float                    | AsDtype('>f4')\n",
      "MET_phi              | float                    | AsDtype('>f4')\n"
     ]
    }
   ],
   "source": [
    "tree.show()"
   ]
  },
  {
   "cell_type": "markdown",
   "id": "24d7549d-f64f-4230-b293-bca21f934cad",
   "metadata": {},
   "source": [
    "<br><br>\n",
    "\n",
    "\"Can I get that information programmatically?\"\n",
    "\n",
    "(Yes.)"
   ]
  },
  {
   "cell_type": "code",
   "execution_count": 16,
   "id": "af16bb0c-66a7-4308-ae4e-206f57c4cff6",
   "metadata": {},
   "outputs": [
    {
     "data": {
      "text/plain": [
       "{'run': 'int32_t',\n",
       " 'luminosityBlock': 'uint32_t',\n",
       " 'event': 'uint64_t',\n",
       " 'PV_npvs': 'int32_t',\n",
       " 'PV_x': 'float',\n",
       " 'PV_y': 'float',\n",
       " 'PV_z': 'float',\n",
       " 'nMuon': 'uint32_t',\n",
       " 'Muon_pt': 'float[]',\n",
       " 'Muon_eta': 'float[]',\n",
       " 'Muon_phi': 'float[]',\n",
       " 'Muon_mass': 'float[]',\n",
       " 'Muon_charge': 'int32_t[]',\n",
       " 'Muon_pfRelIso03_all': 'float[]',\n",
       " 'Muon_pfRelIso04_all': 'float[]',\n",
       " 'Muon_dxy': 'float[]',\n",
       " 'Muon_dxyErr': 'float[]',\n",
       " 'Muon_dz': 'float[]',\n",
       " 'Muon_dzErr': 'float[]',\n",
       " 'nElectron': 'uint32_t',\n",
       " 'Electron_pt': 'float[]',\n",
       " 'Electron_eta': 'float[]',\n",
       " 'Electron_phi': 'float[]',\n",
       " 'Electron_mass': 'float[]',\n",
       " 'Electron_charge': 'int32_t[]',\n",
       " 'Electron_pfRelIso03_all': 'float[]',\n",
       " 'Electron_dxy': 'float[]',\n",
       " 'Electron_dxyErr': 'float[]',\n",
       " 'Electron_dz': 'float[]',\n",
       " 'Electron_dzErr': 'float[]',\n",
       " 'MET_pt': 'float',\n",
       " 'MET_phi': 'float'}"
      ]
     },
     "execution_count": 16,
     "metadata": {},
     "output_type": "execute_result"
    }
   ],
   "source": [
    "{key: branch.typename for key, branch in tree.items()}"
   ]
  },
  {
   "cell_type": "markdown",
   "id": "8dd57d94-9a40-4be6-95ac-325dadd73ee6",
   "metadata": {},
   "source": [
    "<br><br>\n",
    "\n",
    "\"Read the muon $p_T$, $\\eta$, $\\phi$, and mass into arrays (and nothing else!).\"\n",
    "\n",
    "This is the first _expensive_ operation, where you might have to wait."
   ]
  },
  {
   "cell_type": "code",
   "execution_count": 17,
   "id": "143437f7-dd0d-4cb2-a967-5cc7da5107af",
   "metadata": {},
   "outputs": [
    {
     "data": {
      "text/plain": [
       "<Array [{Muon_pt: [63, ...], ...}, ..., {...}] type='299973 * {Muon_pt: var...'>"
      ]
     },
     "execution_count": 17,
     "metadata": {},
     "output_type": "execute_result"
    }
   ],
   "source": [
    "muon_kinematics = tree.arrays([\"Muon_pt\", \"Muon_eta\", \"Muon_phi\", \"Muon_mass\"])\n",
    "muon_kinematics"
   ]
  },
  {
   "cell_type": "markdown",
   "id": "5f78f135-67d4-4b31-97d0-346a0f59581b",
   "metadata": {},
   "source": [
    "Note that there's a way to limit how much you read/how long you have to wait:"
   ]
  },
  {
   "cell_type": "code",
   "execution_count": 18,
   "id": "95837846-7d20-4b07-a952-fbcc78c924eb",
   "metadata": {},
   "outputs": [
    {
     "data": {
      "text/plain": [
       "<Array [{Muon_pt: [63, ...], ...}, ..., {...}] type='100 * {Muon_pt: var * ...'>"
      ]
     },
     "execution_count": 18,
     "metadata": {},
     "output_type": "execute_result"
    }
   ],
   "source": [
    "tree.arrays([\"Muon_pt\", \"Muon_eta\", \"Muon_phi\", \"Muon_mass\"], entry_stop=100)"
   ]
  },
  {
   "cell_type": "markdown",
   "id": "509bcda0-7336-4777-897c-d57cc45021f0",
   "metadata": {},
   "source": [
    "<br><br>\n",
    "\n",
    "\"Show me that (already read) data in more detail, including data types.\""
   ]
  },
  {
   "cell_type": "code",
   "execution_count": 19,
   "id": "8469f5cf-8032-4497-937e-411c4c749d72",
   "metadata": {},
   "outputs": [
    {
     "name": "stdout",
     "output_type": "stream",
     "text": [
      "type: 299973 * {\n",
      "    Muon_pt: var * float32,\n",
      "    Muon_eta: var * float32,\n",
      "    Muon_phi: var * float32,\n",
      "    Muon_mass: var * float32\n",
      "}\n",
      "[{Muon_pt: [63, 38.1, 4.05], Muon_eta: [-0.719, ...], Muon_phi: [...], ...},\n",
      " {Muon_pt: [], Muon_eta: [], Muon_phi: [], Muon_mass: []},\n",
      " {Muon_pt: [], Muon_eta: [], Muon_phi: [], Muon_mass: []},\n",
      " {Muon_pt: [54.3, 23.5, ..., 8.39, 3.49], Muon_eta: [...], Muon_phi: ..., ...},\n",
      " {Muon_pt: [], Muon_eta: [], Muon_phi: [], Muon_mass: []},\n",
      " {Muon_pt: [38.5, 47], Muon_eta: [0.315, -0.119], Muon_phi: [...], ...},\n",
      " {Muon_pt: [4.45], Muon_eta: [-0.986], Muon_phi: [1.12], Muon_mass: ..., ...},\n",
      " {Muon_pt: [], Muon_eta: [], Muon_phi: [], Muon_mass: []},\n",
      " {Muon_pt: [], Muon_eta: [], Muon_phi: [], Muon_mass: []},\n",
      " {Muon_pt: [], Muon_eta: [], Muon_phi: [], Muon_mass: []},\n",
      " ...,\n",
      " {Muon_pt: [37.2, 50.1], Muon_eta: [1.1, 0.412], Muon_phi: [...], ...},\n",
      " {Muon_pt: [43.2, 24], Muon_eta: [2.15, 0.421], Muon_phi: [...], ...},\n",
      " {Muon_pt: [24.2, 79.5], Muon_eta: [0.327, 0.79], Muon_phi: [...], ...},\n",
      " {Muon_pt: [], Muon_eta: [], Muon_phi: [], Muon_mass: []},\n",
      " {Muon_pt: [9.81, 25.5], Muon_eta: [2.07, 1.04], Muon_phi: [...], ...},\n",
      " {Muon_pt: [32.6, 43.1], Muon_eta: [1.11, -0.162], Muon_phi: [...], ...},\n",
      " {Muon_pt: [4.32, 4.36, 5.63, 4.75], Muon_eta: [-2.09, ...], ...},\n",
      " {Muon_pt: [], Muon_eta: [], Muon_phi: [], Muon_mass: []},\n",
      " {Muon_pt: [], Muon_eta: [], Muon_phi: [], Muon_mass: []}]\n"
     ]
    }
   ],
   "source": [
    "muon_kinematics.show(type=True)"
   ]
  },
  {
   "cell_type": "markdown",
   "id": "67809494-df34-450e-81ed-44577ebd6659",
   "metadata": {},
   "source": [
    "<br><br>\n",
    "\n",
    "\"Which columns in the TTree have anything to do with muons or electrons?\""
   ]
  },
  {
   "cell_type": "code",
   "execution_count": 20,
   "id": "a986b5ad-f81d-4bfe-b121-c814fc145dac",
   "metadata": {},
   "outputs": [
    {
     "data": {
      "text/plain": [
       "['Muon_pt',\n",
       " 'Muon_eta',\n",
       " 'Muon_phi',\n",
       " 'Muon_mass',\n",
       " 'Muon_charge',\n",
       " 'Muon_pfRelIso03_all',\n",
       " 'Muon_pfRelIso04_all',\n",
       " 'Muon_dxy',\n",
       " 'Muon_dxyErr',\n",
       " 'Muon_dz',\n",
       " 'Muon_dzErr',\n",
       " 'Electron_pt',\n",
       " 'Electron_eta',\n",
       " 'Electron_phi',\n",
       " 'Electron_mass',\n",
       " 'Electron_charge',\n",
       " 'Electron_pfRelIso03_all',\n",
       " 'Electron_dxy',\n",
       " 'Electron_dxyErr',\n",
       " 'Electron_dz',\n",
       " 'Electron_dzErr']"
      ]
     },
     "execution_count": 20,
     "metadata": {},
     "output_type": "execute_result"
    }
   ],
   "source": [
    "tree.keys(filter_name=[\"Muon_*\", \"Electron_*\"])"
   ]
  },
  {
   "cell_type": "markdown",
   "id": "156e0da4-f7a9-4e36-9f3b-7d92d6fb25fe",
   "metadata": {},
   "source": [
    "<br><br>\n",
    "\n",
    "\"Read all of those columns into arrays, using the same `filter_name`.\""
   ]
  },
  {
   "cell_type": "code",
   "execution_count": 21,
   "id": "54de7383-cee5-4ac1-878d-8818db562bdf",
   "metadata": {},
   "outputs": [
    {
     "data": {
      "text/plain": [
       "<Array [{Muon_pt: [63, ...], ...}, ..., {...}] type='299973 * {Muon_pt: var...'>"
      ]
     },
     "execution_count": 21,
     "metadata": {},
     "output_type": "execute_result"
    }
   ],
   "source": [
    "muons_and_electrons = tree.arrays(filter_name=[\"Muon_*\", \"Electron_*\"])\n",
    "muons_and_electrons"
   ]
  },
  {
   "cell_type": "markdown",
   "id": "8cf00e93-ffb4-40b9-92b1-03b479f37352",
   "metadata": {},
   "source": [
    "<br><br>\n",
    "\n",
    "\"More detail, please.\""
   ]
  },
  {
   "cell_type": "code",
   "execution_count": 22,
   "id": "07a6ca94-cebb-4290-8898-231e38be1b3c",
   "metadata": {},
   "outputs": [
    {
     "name": "stdout",
     "output_type": "stream",
     "text": [
      "type: 299973 * {\n",
      "    Muon_pt: var * float32,\n",
      "    Muon_eta: var * float32,\n",
      "    Muon_phi: var * float32,\n",
      "    Muon_mass: var * float32,\n",
      "    Muon_charge: var * int32,\n",
      "    Muon_pfRelIso03_all: var * float32,\n",
      "    Muon_pfRelIso04_all: var * float32,\n",
      "    Muon_dxy: var * float32,\n",
      "    Muon_dxyErr: var * float32,\n",
      "    Muon_dz: var * float32,\n",
      "    Muon_dzErr: var * float32,\n",
      "    Electron_pt: var * float32,\n",
      "    Electron_eta: var * float32,\n",
      "    Electron_phi: var * float32,\n",
      "    Electron_mass: var * float32,\n",
      "    Electron_charge: var * int32,\n",
      "    Electron_pfRelIso03_all: var * float32,\n",
      "    Electron_dxy: var * float32,\n",
      "    Electron_dxyErr: var * float32,\n",
      "    Electron_dz: var * float32,\n",
      "    Electron_dzErr: var * float32\n",
      "}\n",
      "[{Muon_pt: [63, 38.1, 4.05], Muon_eta: [-0.719, ...], Muon_phi: [...], ...},\n",
      " {Muon_pt: [], Muon_eta: [], Muon_phi: [], Muon_mass: [], ...},\n",
      " {Muon_pt: [], Muon_eta: [], Muon_phi: [], Muon_mass: [], ...},\n",
      " {Muon_pt: [54.3, 23.5, ..., 8.39, 3.49], Muon_eta: [...], Muon_phi: ..., ...},\n",
      " {Muon_pt: [], Muon_eta: [], Muon_phi: [], Muon_mass: [], ...},\n",
      " {Muon_pt: [38.5, 47], Muon_eta: [0.315, -0.119], Muon_phi: [...], ...},\n",
      " {Muon_pt: [4.45], Muon_eta: [-0.986], Muon_phi: [1.12], Muon_mass: ..., ...},\n",
      " {Muon_pt: [], Muon_eta: [], Muon_phi: [], Muon_mass: [], ...},\n",
      " {Muon_pt: [], Muon_eta: [], Muon_phi: [], Muon_mass: [], ...},\n",
      " {Muon_pt: [], Muon_eta: [], Muon_phi: [], Muon_mass: [], ...},\n",
      " ...,\n",
      " {Muon_pt: [37.2, 50.1], Muon_eta: [1.1, 0.412], Muon_phi: [...], ...},\n",
      " {Muon_pt: [43.2, 24], Muon_eta: [2.15, 0.421], Muon_phi: [...], ...},\n",
      " {Muon_pt: [24.2, 79.5], Muon_eta: [0.327, 0.79], Muon_phi: [...], ...},\n",
      " {Muon_pt: [], Muon_eta: [], Muon_phi: [], Muon_mass: [], ...},\n",
      " {Muon_pt: [9.81, 25.5], Muon_eta: [2.07, 1.04], Muon_phi: [...], ...},\n",
      " {Muon_pt: [32.6, 43.1], Muon_eta: [1.11, -0.162], Muon_phi: [...], ...},\n",
      " {Muon_pt: [4.32, 4.36, 5.63, 4.75], Muon_eta: [-2.09, ...], ...},\n",
      " {Muon_pt: [], Muon_eta: [], Muon_phi: [], Muon_mass: [], ...},\n",
      " {Muon_pt: [], Muon_eta: [], Muon_phi: [], Muon_mass: [], ...}]\n"
     ]
    }
   ],
   "source": [
    "muons_and_electrons.show(type=True)"
   ]
  },
  {
   "cell_type": "markdown",
   "id": "96c268c1-49d9-4855-9b07-cde04d1f342b",
   "metadata": {},
   "source": [
    "<br><br><br><br><br>"
   ]
  },
  {
   "cell_type": "markdown",
   "id": "76ec487b-bab2-40c4-bc8b-1b4509b45228",
   "metadata": {},
   "source": [
    "### Examining distributions"
   ]
  },
  {
   "cell_type": "markdown",
   "id": "28f46bfa-b0e3-4888-8cd0-637fef5252dc",
   "metadata": {},
   "source": [
    "NumPy and Matplotlib both have `histogram` (or `hist`) functions, but these are _display_ options. In particle physics, we almost always want a histogram object that we can fill in parallel, redraw without refilling, etc. Even weighted histograms with error bars require more than what NumPy and Matplotlib give us.\n",
    "\n",
    "So although"
   ]
  },
  {
   "cell_type": "code",
   "execution_count": 23,
   "id": "9407d390-b84f-4c5e-9ee5-077b6c3d8e09",
   "metadata": {},
   "outputs": [
    {
     "data": {
      "image/png": "[encoded data removed]",
      "text/plain": [
       "<Figure size 640x480 with 1 Axes>"
      ]
     },
     "metadata": {},
     "output_type": "display_data"
    }
   ],
   "source": [
    "plt.hist(ak.flatten(muon_kinematics.Muon_pt), bins=100, range=(0, 150));"
   ]
  },
  {
   "cell_type": "markdown",
   "id": "a9dbf34d-6ba8-412f-9022-fab42512bbf1",
   "metadata": {},
   "source": [
    "works, you probably want"
   ]
  },
  {
   "cell_type": "code",
   "execution_count": 24,
   "id": "ccaffce6-3cd6-49b7-98bd-0f9b9029e9f4",
   "metadata": {},
   "outputs": [],
   "source": [
    "import hist"
   ]
  },
  {
   "cell_type": "code",
   "execution_count": 25,
   "id": "98c8e0e0-9b09-4301-b1d4-a02b9eb499db",
   "metadata": {},
   "outputs": [
    {
     "data": {
      "image/png": "[encoded data removed]",
      "text/plain": [
       "<Figure size 640x480 with 1 Axes>"
      ]
     },
     "metadata": {},
     "output_type": "display_data"
    }
   ],
   "source": [
    "h = hist.Hist.new.Regular(100, 0, 150, name=\"muon pT\").Double()\n",
    "\n",
    "h.fill(ak.flatten(muon_kinematics.Muon_pt))\n",
    "\n",
    "h.plot();"
   ]
  },
  {
   "cell_type": "markdown",
   "id": "7970a058-1772-47b4-86ce-9b6e40aeb0ee",
   "metadata": {},
   "source": [
    "<br><br><br>\n",
    "\n",
    "Or even"
   ]
  },
  {
   "cell_type": "code",
   "execution_count": 26,
   "id": "b3e8d144-31b6-4e8c-8f9e-5c917ae50cdc",
   "metadata": {},
   "outputs": [
    {
     "data": {
      "image/png": "[encoded data removed]",
      "text/plain": [
       "<Figure size 640x480 with 1 Axes>"
      ]
     },
     "metadata": {},
     "output_type": "display_data"
    }
   ],
   "source": [
    "(\n",
    "    hist.Hist.new.Regular(100, 0, 150, name=\"muon pT\").Weight()\n",
    "        .fill(\n",
    "            ak.flatten(muon_kinematics.Muon_pt),\n",
    "            weight=ak.flatten(muon_kinematics.Muon_pt),\n",
    "        )\n",
    "        .plot()\n",
    ");"
   ]
  },
  {
   "cell_type": "markdown",
   "id": "8a0ab4cd-5e01-4d5b-9b94-68022915a402",
   "metadata": {},
   "source": [
    "<br><br><br>"
   ]
  },
  {
   "cell_type": "markdown",
   "id": "d1d51748-55cd-401e-88a7-56f6abe2f30d",
   "metadata": {},
   "source": [
    "### What is `ak.flatten`?"
   ]
  },
  {
   "cell_type": "markdown",
   "id": "e9f62c7d-88a5-438f-af24-cfb4aef5681a",
   "metadata": {},
   "source": [
    "In both of the above examples, we didn't just plot"
   ]
  },
  {
   "cell_type": "code",
   "execution_count": 27,
   "id": "1038e219-3c00-4295-a140-126365166a3f",
   "metadata": {},
   "outputs": [
    {
     "data": {
      "text/plain": [
       "<Array [[63, 38.1, 4.05], [], [], ..., [], []] type='299973 * var * float32'>"
      ]
     },
     "execution_count": 27,
     "metadata": {},
     "output_type": "execute_result"
    }
   ],
   "source": [
    "muon_kinematics.Muon_pt"
   ]
  },
  {
   "cell_type": "markdown",
   "id": "f785a128-30e3-4756-81ac-1edf1e8382a2",
   "metadata": {},
   "source": [
    "but"
   ]
  },
  {
   "cell_type": "code",
   "execution_count": 28,
   "id": "57b1f7f3-28fe-4222-8454-ca12010d2e37",
   "metadata": {},
   "outputs": [
    {
     "data": {
      "text/plain": [
       "<Array [63, 38.1, 4.05, 54.3, ..., 4.36, 5.63, 4.75] type='441394 * float32'>"
      ]
     },
     "execution_count": 28,
     "metadata": {},
     "output_type": "execute_result"
    }
   ],
   "source": [
    "ak.flatten(muon_kinematics.Muon_pt)"
   ]
  },
  {
   "cell_type": "markdown",
   "id": "7f79508f-0412-426a-868c-561f41f0c04a",
   "metadata": {},
   "source": [
    "<br><br>\n",
    "\n",
    "The first array is an array of _lists_. To fill a histogram, you need an array of _numbers_. `ak.flatten` removes the list structure.\n",
    "\n",
    "<br><br>\n",
    "\n",
    "There are other ways of removing the list structure, depending on what you're trying to do:"
   ]
  },
  {
   "cell_type": "code",
   "execution_count": 29,
   "id": "57ff969f-ce45-44a1-b523-dae0e02f2242",
   "metadata": {},
   "outputs": [
    {
     "data": {
      "text/plain": [
       "<Array [105, 0, 0, 152, 0, ..., 35.3, 75.6, 19.1, 0, 0] type='299973 * float32'>"
      ]
     },
     "execution_count": 29,
     "metadata": {},
     "output_type": "execute_result"
    }
   ],
   "source": [
    "ak.sum(muon_kinematics.Muon_pt, axis=1)"
   ]
  },
  {
   "cell_type": "code",
   "execution_count": 30,
   "id": "fa86366d-bcaa-4a33-afae-a4282fed72f3",
   "metadata": {},
   "outputs": [
    {
     "data": {
      "image/png": "[encoded data removed]",
      "text/plain": [
       "<Figure size 640x480 with 1 Axes>"
      ]
     },
     "metadata": {},
     "output_type": "display_data"
    }
   ],
   "source": [
    "(\n",
    "    hist.Hist.new.Regular(100, 0, 150, name=\"muon pT\").Double()\n",
    "        .fill(ak.sum(muon_kinematics.Muon_pt, axis=1))\n",
    "        .plot()\n",
    ");\n",
    "plt.yscale(\"log\");"
   ]
  },
  {
   "cell_type": "markdown",
   "id": "43baf6c4-e8d1-4a80-90b8-86591df03049",
   "metadata": {},
   "source": [
    "<br><br>"
   ]
  },
  {
   "cell_type": "code",
   "execution_count": 31,
   "id": "c48592d7-10aa-4ef7-94e3-432f56358a13",
   "metadata": {},
   "outputs": [
    {
     "data": {
      "text/plain": [
       "<Array [63, None, None, 54.3, ..., 5.63, None, None] type='299973 * ?float32'>"
      ]
     },
     "execution_count": 31,
     "metadata": {},
     "output_type": "execute_result"
    }
   ],
   "source": [
    "ak.max(muon_kinematics.Muon_pt, axis=1)"
   ]
  },
  {
   "cell_type": "code",
   "execution_count": 32,
   "id": "e4321689-b6e9-4a49-9839-8ce32533b2d3",
   "metadata": {},
   "outputs": [
    {
     "data": {
      "text/plain": [
       "<Array [63, 0, 0, 54.3, 0, ..., 25.5, 43.1, 5.63, 0, 0] type='299973 * float64'>"
      ]
     },
     "execution_count": 32,
     "metadata": {},
     "output_type": "execute_result"
    }
   ],
   "source": [
    "ak.fill_none(ak.max(muon_kinematics.Muon_pt, axis=1), 0)"
   ]
  },
  {
   "cell_type": "code",
   "execution_count": 33,
   "id": "b3ec201d-2f4f-4f12-ae04-c22e66f9b7e3",
   "metadata": {},
   "outputs": [
    {
     "data": {
      "image/png": "[encoded data removed]",
      "text/plain": [
       "<Figure size 640x480 with 1 Axes>"
      ]
     },
     "metadata": {},
     "output_type": "display_data"
    }
   ],
   "source": [
    "(\n",
    "    hist.Hist.new.Regular(100, 0, 150, name=\"muon pT\").Double()\n",
    "        .fill(ak.fill_none(ak.max(muon_kinematics.Muon_pt, axis=1), 0))\n",
    "        .plot()\n",
    ");\n",
    "plt.yscale(\"log\");"
   ]
  },
  {
   "cell_type": "markdown",
   "id": "bdbccf91-dd04-411d-95a8-496f2222a500",
   "metadata": {},
   "source": [
    "<br><br><br><br><br>"
   ]
  },
  {
   "cell_type": "markdown",
   "id": "9b894b49-9e4b-4c97-8f2d-1bd1ee595963",
   "metadata": {},
   "source": [
    "### Vector calculations"
   ]
  },
  {
   "cell_type": "markdown",
   "id": "fbb59bf2-f942-4a77-adda-4e6d61bb82ac",
   "metadata": {},
   "source": [
    "We can compute coordinate transformations and invariant masses manually, using NumPy's array-at-a-time functions."
   ]
  },
  {
   "cell_type": "code",
   "execution_count": 34,
   "id": "1cb60002-7b64-43c0-82fb-2417e887a036",
   "metadata": {},
   "outputs": [],
   "source": [
    "px = muon_kinematics.Muon_pt * np.cos(muon_kinematics.Muon_phi) * np.cosh(muon_kinematics.Muon_eta)\n",
    "py = muon_kinematics.Muon_pt * np.sin(muon_kinematics.Muon_phi) * np.cosh(muon_kinematics.Muon_eta)\n",
    "pz = muon_kinematics.Muon_pt * np.sinh(muon_kinematics.Muon_eta)"
   ]
  },
  {
   "cell_type": "code",
   "execution_count": 35,
   "id": "51fd95b7-fc3c-4605-baab-deeff49bf53a",
   "metadata": {},
   "outputs": [
    {
     "data": {
      "text/plain": [
       "<Array [[-78.8, 27.6, 2.16], [], [], ..., [], []] type='299973 * var * float32'>"
      ]
     },
     "execution_count": 35,
     "metadata": {},
     "output_type": "execute_result"
    }
   ],
   "source": [
    "px"
   ]
  },
  {
   "cell_type": "code",
   "execution_count": 36,
   "id": "4a7afefe-133f-4434-a232-38e2ba80abf2",
   "metadata": {},
   "outputs": [
    {
     "data": {
      "text/plain": [
       "<Array [[13.8, -46.2, 3.67], [], [], ..., [], []] type='299973 * var * float32'>"
      ]
     },
     "execution_count": 36,
     "metadata": {},
     "output_type": "execute_result"
    }
   ],
   "source": [
    "py"
   ]
  },
  {
   "cell_type": "code",
   "execution_count": 37,
   "id": "17228761-b0f5-44ac-aba7-55d5fd0b1fb5",
   "metadata": {},
   "outputs": [
    {
     "data": {
      "text/plain": [
       "<Array [[-49.3, -38, -1.32], [], [], ..., [], []] type='299973 * var * float32'>"
      ]
     },
     "execution_count": 37,
     "metadata": {},
     "output_type": "execute_result"
    }
   ],
   "source": [
    "pz"
   ]
  },
  {
   "cell_type": "code",
   "execution_count": 38,
   "id": "ea6c9c50-0a3f-45d6-ae74-47f09c460b6c",
   "metadata": {},
   "outputs": [
    {
     "data": {
      "image/png": "[encoded data removed]",
      "text/plain": [
       "<Figure size 640x480 with 2 Axes>"
      ]
     },
     "metadata": {},
     "output_type": "display_data"
    }
   ],
   "source": [
    "(\n",
    "    hist.Hist.new.Regular(100, -50, 50, name=\"px\").Regular(100, -50, 50, name=\"py\").Double()\n",
    "        .fill(ak.flatten(px), ak.flatten(py))\n",
    "        .plot()\n",
    ");"
   ]
  },
  {
   "cell_type": "code",
   "execution_count": 39,
   "id": "2f64b9df-af72-4209-bfe7-3288356e7eab",
   "metadata": {},
   "outputs": [
    {
     "data": {
      "image/png": "[encoded data removed]",
      "text/plain": [
       "<Figure size 640x480 with 3 Axes>"
      ]
     },
     "metadata": {},
     "output_type": "display_data"
    }
   ],
   "source": [
    "(\n",
    "    hist.Hist.new.Regular(100, 0, 150, name=\"pt\").Regular(100, -100, 100, name=\"pz\").Double()\n",
    "        .fill(ak.flatten(np.sqrt(px**2 + py**2)), ak.flatten(pz))\n",
    "        .plot2d_full()\n",
    ");"
   ]
  },
  {
   "cell_type": "markdown",
   "id": "77c53c30-46e1-470c-8b0d-caddab9635a9",
   "metadata": {},
   "source": [
    "<br><br><br>\n",
    "\n",
    "But you'd probably rather use the Vector library.\n",
    "\n",
    "(Normally, you'd just `import vector`, but the following is necessary to get Vector to recognize Awkward version 2, which will be released in December.)"
   ]
  },
  {
   "cell_type": "code",
   "execution_count": 40,
   "id": "acff9e48-bf70-423b-b522-f0a6b9e51169",
   "metadata": {},
   "outputs": [],
   "source": [
    "import awkward\n",
    "awkward.Array = awkward.highlevel.Array = awkward._v2.highlevel.Array\n",
    "awkward.Record = awkward.highlevel.Record = awkward._v2.highlevel.Record\n",
    "\n",
    "import vector\n",
    "import vector.backends.awkward\n",
    "ak.behavior.update(vector.backends.awkward.behavior)"
   ]
  },
  {
   "cell_type": "code",
   "execution_count": 41,
   "id": "b38f512e-e232-48c8-a573-7b6d14216b70",
   "metadata": {},
   "outputs": [],
   "source": [
    "muons = ak.zip({\n",
    "    \"pt\": muon_kinematics.Muon_pt,\n",
    "    \"eta\": muon_kinematics.Muon_eta,\n",
    "    \"phi\": muon_kinematics.Muon_phi,\n",
    "    \"mass\": muon_kinematics.Muon_mass,\n",
    "}, with_name=\"Momentum4D\")"
   ]
  },
  {
   "cell_type": "code",
   "execution_count": 45,
   "id": "3108045f-941a-418e-9f01-84244911c72d",
   "metadata": {},
   "outputs": [
    {
     "name": "stdout",
     "output_type": "stream",
     "text": [
      "type: 299973 * var * Momentum4D[\n",
      "    pt: float32,\n",
      "    eta: float32,\n",
      "    phi: float32,\n",
      "    mass: float32\n",
      "]\n",
      "[[<MomentumRecord4D {pt: 63, eta: -0.719, phi: 2.97, ...} type='Momentum4D[pt...'>, <MomentumRecord4D {pt: 38.1, eta: -0.879, phi: -1.03, ...} type='Momentum4D...'>, <MomentumRecord4D {pt: 4.05, eta: -0.321, phi: 1.04, ...} type='Momentum4D[...'>],\n",
      " [],\n",
      " [],\n",
      " [<MomentumRecord4D {pt: 54.3, eta: -1.06, phi: -0.362, ...} type='Momentum4D...'>, ..., <MomentumRecord4D {pt: 3.49, eta: 0.769, phi: 2.03, ...} type='Momentum4D[p...'>],\n",
      " [],\n",
      " [<MomentumRecord4D {pt: 38.5, eta: 0.315, phi: 2.05, ...} type='Momentum4D[p...'>, <MomentumRecord4D {pt: 47, eta: -0.119, phi: -1.15, ...} type='Momentum4D[p...'>],\n",
      " [{pt: 4.45, eta: -0.986, phi: 1.12, mass: 0.106}],\n",
      " [],\n",
      " [],\n",
      " [],\n",
      " ...,\n",
      " [<MomentumRecord4D {pt: 37.2, eta: 1.1, phi: -0.875, ...} type='Momentum4D[p...'>, <MomentumRecord4D {pt: 50.1, eta: 0.412, phi: 2.65, ...} type='Momentum4D[p...'>],\n",
      " [<MomentumRecord4D {pt: 43.2, eta: 2.15, phi: -1.3, ...} type='Momentum4D[pt...'>, <MomentumRecord4D {pt: 24, eta: 0.421, phi: 1.38, ...} type='Momentum4D[pt:...'>],\n",
      " [<MomentumRecord4D {pt: 24.2, eta: 0.327, phi: -0.997, ...} type='Momentum4D...'>, <MomentumRecord4D {pt: 79.5, eta: 0.79, phi: 2.51, ...} type='Momentum4D[pt...'>],\n",
      " [],\n",
      " [<MomentumRecord4D {pt: 9.81, eta: 2.07, phi: 1.66, ...} type='Momentum4D[pt...'>, <MomentumRecord4D {pt: 25.5, eta: 1.04, phi: -3.09, ...} type='Momentum4D[p...'>],\n",
      " [<MomentumRecord4D {pt: 32.6, eta: 1.11, phi: -0.981, ...} type='Momentum4D[...'>, <MomentumRecord4D {pt: 43.1, eta: -0.162, phi: 2.27, ...} type='Momentum4D[...'>],\n",
      " [<MomentumRecord4D {pt: 4.32, eta: -2.09, phi: 0.988, ...} type='Momentum4D[...'>, <MomentumRecord4D {pt: 4.36, eta: -2.15, phi: 0.434, ...} type='Momentum4D[...'>, ..., <MomentumRecord4D {pt: 4.75, eta: -2.02, phi: 1.08, ...} type='Momentum4D[p...'>],\n",
      " [],\n",
      " []]\n"
     ]
    }
   ],
   "source": [
    "muons.show(type=True)"
   ]
  },
  {
   "cell_type": "markdown",
   "id": "7e33b9da-51ea-469d-bd2b-6206025c5395",
   "metadata": {},
   "source": [
    "<br><br><br>\n",
    "\n",
    "Note that each `Momentum4D` vector has a single `pt`, `eta`, `phi`, `mass` value, not a list, as `muon_kinematics` does:"
   ]
  },
  {
   "cell_type": "code",
   "execution_count": 46,
   "id": "4e713376-9e9f-481c-8b53-90b9263472c3",
   "metadata": {},
   "outputs": [
    {
     "name": "stdout",
     "output_type": "stream",
     "text": [
      "type: 299973 * {\n",
      "    Muon_pt: var * float32,\n",
      "    Muon_eta: var * float32,\n",
      "    Muon_phi: var * float32,\n",
      "    Muon_mass: var * float32\n",
      "}\n",
      "[{Muon_pt: [63, 38.1, 4.05], Muon_eta: [-0.719, ...], Muon_phi: [...], ...},\n",
      " {Muon_pt: [], Muon_eta: [], Muon_phi: [], Muon_mass: []},\n",
      " {Muon_pt: [], Muon_eta: [], Muon_phi: [], Muon_mass: []},\n",
      " {Muon_pt: [54.3, 23.5, ..., 8.39, 3.49], Muon_eta: [...], Muon_phi: ..., ...},\n",
      " {Muon_pt: [], Muon_eta: [], Muon_phi: [], Muon_mass: []},\n",
      " {Muon_pt: [38.5, 47], Muon_eta: [0.315, -0.119], Muon_phi: [...], ...},\n",
      " {Muon_pt: [4.45], Muon_eta: [-0.986], Muon_phi: [1.12], Muon_mass: ..., ...},\n",
      " {Muon_pt: [], Muon_eta: [], Muon_phi: [], Muon_mass: []},\n",
      " {Muon_pt: [], Muon_eta: [], Muon_phi: [], Muon_mass: []},\n",
      " {Muon_pt: [], Muon_eta: [], Muon_phi: [], Muon_mass: []},\n",
      " ...,\n",
      " {Muon_pt: [37.2, 50.1], Muon_eta: [1.1, 0.412], Muon_phi: [...], ...},\n",
      " {Muon_pt: [43.2, 24], Muon_eta: [2.15, 0.421], Muon_phi: [...], ...},\n",
      " {Muon_pt: [24.2, 79.5], Muon_eta: [0.327, 0.79], Muon_phi: [...], ...},\n",
      " {Muon_pt: [], Muon_eta: [], Muon_phi: [], Muon_mass: []},\n",
      " {Muon_pt: [9.81, 25.5], Muon_eta: [2.07, 1.04], Muon_phi: [...], ...},\n",
      " {Muon_pt: [32.6, 43.1], Muon_eta: [1.11, -0.162], Muon_phi: [...], ...},\n",
      " {Muon_pt: [4.32, 4.36, 5.63, 4.75], Muon_eta: [-2.09, ...], ...},\n",
      " {Muon_pt: [], Muon_eta: [], Muon_phi: [], Muon_mass: []},\n",
      " {Muon_pt: [], Muon_eta: [], Muon_phi: [], Muon_mass: []}]\n"
     ]
    }
   ],
   "source": [
    "muon_kinematics.show(type=True)"
   ]
  },
  {
   "cell_type": "markdown",
   "id": "90e75629-05e6-4283-a1f7-72c5ba0382fe",
   "metadata": {},
   "source": [
    "<br><br><br>\n",
    "\n",
    "Now coordinate transformations are array-at-a-time methods and properties:"
   ]
  },
  {
   "cell_type": "code",
   "execution_count": 47,
   "id": "e39cc280-7fa9-428b-b34f-dbee51ee9517",
   "metadata": {},
   "outputs": [
    {
     "ename": "AssertionError",
     "evalue": "<MomentumArray4D [[<MomentumRecord4D {pt: 63, eta: -0.719, phi: 2.97, ...} type='Momentum4D[pt...'>, ...], ...] type='...'>",
     "output_type": "error",
     "traceback": [
      "\u001b[0;31m---------------------------------------------------------------------------\u001b[0m",
      "\u001b[0;31mAssertionError\u001b[0m                            Traceback (most recent call last)",
      "Cell \u001b[0;32mIn [47], line 1\u001b[0m\n\u001b[0;32m----> 1\u001b[0m \u001b[43mmuons\u001b[49m\u001b[38;5;241;43m.\u001b[39;49m\u001b[43mpx\u001b[49m\n",
      "File \u001b[0;32m~/mambaforge/lib/python3.10/site-packages/vector/_methods.py:2366\u001b[0m, in \u001b[0;36mPlanarMomentum.px\u001b[0;34m(self)\u001b[0m\n\u001b[1;32m   2364\u001b[0m \u001b[38;5;129m@property\u001b[39m\n\u001b[1;32m   2365\u001b[0m \u001b[38;5;28;01mdef\u001b[39;00m \u001b[38;5;21mpx\u001b[39m(\u001b[38;5;28mself\u001b[39m) \u001b[38;5;241m-\u001b[39m\u001b[38;5;241m>\u001b[39m ScalarCollection:\n\u001b[0;32m-> 2366\u001b[0m     \u001b[38;5;28;01mreturn\u001b[39;00m \u001b[38;5;28;43mself\u001b[39;49m\u001b[38;5;241;43m.\u001b[39;49m\u001b[43mx\u001b[49m\n",
      "File \u001b[0;32m~/mambaforge/lib/python3.10/site-packages/vector/_methods.py:1728\u001b[0m, in \u001b[0;36mPlanar.x\u001b[0;34m(self)\u001b[0m\n\u001b[1;32m   1724\u001b[0m \u001b[38;5;129m@property\u001b[39m\n\u001b[1;32m   1725\u001b[0m \u001b[38;5;28;01mdef\u001b[39;00m \u001b[38;5;21mx\u001b[39m(\u001b[38;5;28mself\u001b[39m) \u001b[38;5;241m-\u001b[39m\u001b[38;5;241m>\u001b[39m ScalarCollection:\n\u001b[1;32m   1726\u001b[0m     \u001b[38;5;28;01mfrom\u001b[39;00m \u001b[38;5;21;01mvector\u001b[39;00m\u001b[38;5;21;01m.\u001b[39;00m\u001b[38;5;21;01m_compute\u001b[39;00m\u001b[38;5;21;01m.\u001b[39;00m\u001b[38;5;21;01mplanar\u001b[39;00m \u001b[38;5;28;01mimport\u001b[39;00m x\n\u001b[0;32m-> 1728\u001b[0m     \u001b[38;5;28;01mreturn\u001b[39;00m \u001b[43mx\u001b[49m\u001b[38;5;241;43m.\u001b[39;49m\u001b[43mdispatch\u001b[49m\u001b[43m(\u001b[49m\u001b[38;5;28;43mself\u001b[39;49m\u001b[43m)\u001b[49m\n",
      "File \u001b[0;32m~/mambaforge/lib/python3.10/site-packages/vector/_compute/planar/x.py:42\u001b[0m, in \u001b[0;36mdispatch\u001b[0;34m(v)\u001b[0m\n\u001b[1;32m     41\u001b[0m \u001b[38;5;28;01mdef\u001b[39;00m \u001b[38;5;21mdispatch\u001b[39m(v: typing\u001b[38;5;241m.\u001b[39mAny) \u001b[38;5;241m-\u001b[39m\u001b[38;5;241m>\u001b[39m typing\u001b[38;5;241m.\u001b[39mAny:\n\u001b[0;32m---> 42\u001b[0m     function, \u001b[38;5;241m*\u001b[39mreturns \u001b[38;5;241m=\u001b[39m _from_signature(\u001b[38;5;18m__name__\u001b[39m, dispatch_map, (\u001b[43m_aztype\u001b[49m\u001b[43m(\u001b[49m\u001b[43mv\u001b[49m\u001b[43m)\u001b[49m,))\n\u001b[1;32m     43\u001b[0m     \u001b[38;5;28;01mwith\u001b[39;00m numpy\u001b[38;5;241m.\u001b[39merrstate(\u001b[38;5;28mall\u001b[39m\u001b[38;5;241m=\u001b[39m\u001b[38;5;124m\"\u001b[39m\u001b[38;5;124mignore\u001b[39m\u001b[38;5;124m\"\u001b[39m):\n\u001b[1;32m     44\u001b[0m         \u001b[38;5;28;01mreturn\u001b[39;00m v\u001b[38;5;241m.\u001b[39m_wrap_result(\n\u001b[1;32m     45\u001b[0m             _flavor_of(v), function(v\u001b[38;5;241m.\u001b[39mlib, \u001b[38;5;241m*\u001b[39mv\u001b[38;5;241m.\u001b[39mazimuthal\u001b[38;5;241m.\u001b[39melements), returns, \u001b[38;5;241m1\u001b[39m\n\u001b[1;32m     46\u001b[0m         )\n",
      "File \u001b[0;32m~/mambaforge/lib/python3.10/site-packages/vector/_methods.py:2638\u001b[0m, in \u001b[0;36m_aztype\u001b[0;34m(obj)\u001b[0m\n\u001b[1;32m   2636\u001b[0m         \u001b[38;5;28;01mif\u001b[39;00m t \u001b[38;5;129;01min\u001b[39;00m (AzimuthalXY, AzimuthalRhoPhi):\n\u001b[1;32m   2637\u001b[0m             \u001b[38;5;28;01mreturn\u001b[39;00m t\n\u001b[0;32m-> 2638\u001b[0m \u001b[38;5;28;01mraise\u001b[39;00m \u001b[38;5;167;01mAssertionError\u001b[39;00m(\u001b[38;5;28mrepr\u001b[39m(obj))\n",
      "\u001b[0;31mAssertionError\u001b[0m: <MomentumArray4D [[<MomentumRecord4D {pt: 63, eta: -0.719, phi: 2.97, ...} type='Momentum4D[pt...'>, ...], ...] type='...'>"
     ]
    }
   ],
   "source": [
    "muons.px"
   ]
  },
  {
   "cell_type": "code",
   "execution_count": null,
   "id": "604d8ff3-f001-4b01-a5d8-477784807896",
   "metadata": {},
   "outputs": [],
   "source": []
  }
 ],
 "metadata": {
  "kernelspec": {
   "display_name": "Python 3 (ipykernel)",
   "language": "python",
   "name": "python3"
  },
  "language_info": {
   "codemirror_mode": {
    "name": "ipython",
    "version": 3
   },
   "file_extension": ".py",
   "mimetype": "text/x-python",
   "name": "python",
   "nbconvert_exporter": "python",
   "pygments_lexer": "ipython3",
   "version": "3.10.6"
  }
 },
 "nbformat": 4,
 "nbformat_minor": 5
}
