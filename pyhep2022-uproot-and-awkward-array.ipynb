{
 "cells": [
  {
   "cell_type": "markdown",
   "id": "4187e701-98e8-4fe3-9078-c760baf51000",
   "metadata": {},
   "source": [
    "# Combinatorics with Uproot and Awkward Arrays"
   ]
  },
  {
   "cell_type": "markdown",
   "id": "a088ca05-1907-4f46-ae6b-ec8b6f76a995",
   "metadata": {},
   "source": [
    "In this presentation, I'll show an Uproot-Awkward Array-Vector-Hist analysis in **basic mode** and **advanced mode** (with combinatorics).\n",
    "\n",
    "I'll leave a lot of time open for questions, since that is the advantage of a live session over a pre-recorded tutorial.\n",
    "\n",
    "If you'd like to see similar tutorials in deeper levels of detail, go to\n",
    "\n",
    "| <!-- --> | <!-- --> | <!-- --> | <!-- --> | <!-- --> |\n",
    "|:--|:--|:--|:--|:--|\n",
    "| 2020 | EIC collaboration tutorial | | [notebooks](https://github.com/jpivarski-talks/2020-04-08-eic-jlab#readme) | [video](https://www.youtube.com/watch?v=FoxNS6nlbD0) |\n",
    "| 2020 | CMS HATS tutorial | | [notebooks](https://github.com/jpivarski/2020-06-08-uproot-awkward-columnar-hats#readme) | |\n",
    "| 2020 | SciPy talk | non-HEP | [notebooks](https://github.com/jpivarski-talks/2020-07-06-scipy2020/blob/master/bikeroutes-execution.ipynb) | [video](https://youtu.be/WlnUF3LRBj4) |\n",
    "| 2020 | PyHEP tutorial | | [notebooks](https://github.com/jpivarski/2020-07-13-pyhep2020-tutorial#readme) | [video](https://youtu.be/ea-zYLQBS4U) |\n",
    "| 2021 | CMS HATS tutorial | | [notebooks](https://github.com/jpivarski-talks/2021-06-14-uproot-awkward-columnar-hats#readme) | |\n",
    "| 2021 | PyHEP tutorial | | [notebooks](https://github.com/jpivarski-talks/2021-07-06-pyhep-uproot-awkward-tutorial#readme) | [video](https://youtu.be/s47Nz0h0vcg) |\n",
    "| 2021 | STAR collaboration tutorial | | [notebooks](https://github.com/jpivarski-talks/2021-09-13-star-uproot-awkward-tutorial#readme) | |\n",
    "| 2022 | PyHEP topical meeting | | [notebooks](https://indico.cern.ch/event/1140031/) | |\n",
    "| 2022 | SciPy tutorial | non-HEP | [notebooks](https://github.com/jpivarski-talks/2022-07-11-scipy-loopy-tutorial#readme) | [video](https://youtu.be/Dovyd72eD70) |\n",
    "| 2022 | CoDaS-HEP tutorial | | [notebooks](https://github.com/jpivarski-talks/2022-08-03-codas-hep-columnar-tutorial#readme) | |\n",
    "\n",
    "This presentation will also use Uproot version 5 and Awkward version 2, which will be fully released in December. For now,\n",
    "\n",
    "```bash\n",
    "pip install --pre uproot awkward\n",
    "```\n",
    "\n",
    "and"
   ]
  },
  {
   "cell_type": "code",
   "execution_count": 1,
   "id": "109053c3-3074-4bd5-954f-24673d832630",
   "metadata": {},
   "outputs": [],
   "source": [
    "import uproot"
   ]
  },
  {
   "cell_type": "code",
   "execution_count": 2,
   "id": "73a09d9e-ea86-49c7-87f4-8b2149d546ae",
   "metadata": {},
   "outputs": [],
   "source": [
    "import awkward._v2 as ak"
   ]
  },
  {
   "cell_type": "markdown",
   "id": "33241fa2-e22c-47cc-9757-0ac86e7ae521",
   "metadata": {},
   "source": [
    "<br><br><br><br><br>"
   ]
  },
  {
   "cell_type": "markdown",
   "id": "54c4a955-f443-4b12-8153-ec6ffe5e1006",
   "metadata": {},
   "source": [
    "## Overview"
   ]
  },
  {
   "cell_type": "markdown",
   "id": "e2d3f297-0501-4c9c-8888-ea3c5c0cf9ad",
   "metadata": {},
   "source": [
    "Just as in the broader Python world, functionality in Scikit-HEP is provided by small, specialized, interoperating libraries that build on each other."
   ]
  },
  {
   "cell_type": "markdown",
   "id": "dcc9b413-1a4d-4227-8721-360e705f2169",
   "metadata": {},
   "source": [
    "<table width=\"1000px\"><tr style=\"background: white\">\n",
    "    <td align=\"center\" width=\"50%\" style=\"font-size: 24px; font-weight: bold\">Scientific Python ecosystem</td>\n",
    "    <td align=\"center\" width=\"50%\" style=\"font-size: 24px; font-weight: bold\">Scikit-HEP ecosystem</td>\n",
    "</tr><tr style=\"background: white\">\n",
    "    <td align=\"center\" width=\"50%\"><img src=\"img/shells-border.png\" width=\"95%\"></td>\n",
    "    <td align=\"center\" width=\"50%\"><img src=\"img/shells-hep.svg\" width=\"95%\"></td>\n",
    "</tr></table>\n",
    "\n",
    "<br><br><br><br><br>"
   ]
  },
  {
   "cell_type": "markdown",
   "id": "aef55d11-9b51-42de-b424-5f345f9452bf",
   "metadata": {},
   "source": [
    "## Libraries used in this talk"
   ]
  },
  {
   "cell_type": "markdown",
   "id": "bfab4fd2-cbcf-47a9-ad73-c99def888088",
   "metadata": {},
   "source": [
    "<br><br>\n",
    "\n",
    "<img src=\"img/uproot-logo.png\" width=\"200px\">\n",
    "\n",
    "<p style=\"font-size: 14pt\">Reads ROOT data as <span style=\"background: yellow\">arrays</span>.</p>\n",
    "\n",
    "<br><br>\n",
    "\n",
    "<img src=\"img/awkward-logo.png\" width=\"200px\">\n",
    "\n",
    "<p style=\"font-size: 14pt\">Manipulates <span style=\"background: yellow\">arrays</span> of arbitrary data structures.</p>\n",
    "\n",
    "<br><br>\n",
    "\n",
    "<img src=\"img/vector-logo.png\" width=\"200px\">\n",
    "\n",
    "<p style=\"font-size: 14pt\">Transforms <span style=\"background: yellow\">arrays</span> of 2D, 3D, and Lorentz vectors.</p>\n",
    "\n",
    "<br><br>\n",
    "\n",
    "<img src=\"img/hist-logo.png\" width=\"200px\">\n",
    "\n",
    "<p style=\"font-size: 14pt\">Fills histograms from <span style=\"background: yellow\">arrays</span> of data.</p>\n",
    "\n",
    "<br><br>\n",
    "\n",
    "<b>Using them effectively will require thinking about whole arrays at a time.</b>\n",
    "\n",
    "<br><br><br>"
   ]
  },
  {
   "cell_type": "markdown",
   "id": "39b4384b-49fb-431a-add8-7a44e46fc35c",
   "metadata": {},
   "source": [
    "## Array-at-a-time thinking and interactivity"
   ]
  },
  {
   "cell_type": "markdown",
   "id": "31200110-52a2-4113-b90e-e94102bdfa14",
   "metadata": {},
   "source": [
    "There's a long history of _array-oriented_ languages, which take arrays as the fundamental data type."
   ]
  },
  {
   "cell_type": "markdown",
   "id": "94983d0a-ab0a-4892-9a25-b5e709f0e933",
   "metadata": {},
   "source": [
    "<img src=\"img/apl-timeline.svg\" width=\"800\">\n",
    "\n",
    "<br><br><br>"
   ]
  },
  {
   "cell_type": "markdown",
   "id": "a21f49c2-7069-41f1-9e6b-9b16ddf6f0da",
   "metadata": {},
   "source": [
    "Interestingly enough, they all (except Fortran 90 and Dex) are _interactive_, command-line or notebook-driven languages.\n",
    "\n",
    "<br>\n",
    "\n",
    "It's because they focus on problems in which we want to know what happens to whole distributions, not individual values.\n",
    "\n",
    "<br>\n",
    "\n",
    "For example,"
   ]
  },
  {
   "cell_type": "code",
   "execution_count": 6,
   "id": "d7a3ddad-11ac-41fb-a6d8-dd1d160d7409",
   "metadata": {},
   "outputs": [],
   "source": [
    "import numpy as np\n",
    "import matplotlib.pyplot as plt"
   ]
  },
  {
   "cell_type": "markdown",
   "id": "6bb4da3e-1e33-4352-8e53-de17b35339c1",
   "metadata": {},
   "source": [
    "<br><br>\n",
    "\n",
    "Suppose we start with a Gaussian-distributed dataset."
   ]
  },
  {
   "cell_type": "code",
   "execution_count": 8,
   "id": "2fabf753-9a41-4989-8104-6d417e6ab950",
   "metadata": {},
   "outputs": [],
   "source": [
    "dataset = np.random.normal(0, 1, 1000000)  # one MILLION data points"
   ]
  },
  {
   "cell_type": "markdown",
   "id": "bec3b4c7-91a0-4445-ac82-fde52b7e470c",
   "metadata": {},
   "source": [
    "<br><br>\n",
    "\n",
    "\"How are they distributed?\""
   ]
  },
  {
   "cell_type": "code",
   "execution_count": 9,
   "id": "8cb71688-9e50-4ef5-93a5-9c2762f917fd",
   "metadata": {},
   "outputs": [
    {
     "data": {
      "image/png": "[encoded data removed]",
      "text/plain": [
       "<Figure size 640x480 with 1 Axes>"
      ]
     },
     "metadata": {},
     "output_type": "display_data"
    }
   ],
   "source": [
    "plt.hist(dataset, bins=100);"
   ]
  },
  {
   "cell_type": "markdown",
   "id": "ac34fe07-1010-4658-9d8a-a3b33a1a20d2",
   "metadata": {},
   "source": [
    "<br><br>\n",
    "\n",
    "\"How is the square of each point distributed?\""
   ]
  },
  {
   "cell_type": "code",
   "execution_count": 10,
   "id": "d650e80e-4c4e-4205-85c7-ab7ceb74f8f4",
   "metadata": {},
   "outputs": [
    {
     "data": {
      "image/png": "[encoded data removed]",
      "text/plain": [
       "<Figure size 640x480 with 1 Axes>"
      ]
     },
     "metadata": {},
     "output_type": "display_data"
    }
   ],
   "source": [
    "plt.hist(dataset**2, bins=100);"
   ]
  },
  {
   "cell_type": "markdown",
   "id": "eb96d11b-2c17-4509-8658-15737d952ffa",
   "metadata": {},
   "source": [
    "<br><br>\n",
    "\n",
    "\"What about this weirdo function?\""
   ]
  },
  {
   "cell_type": "code",
   "execution_count": 11,
   "id": "e8843bee-d3aa-40ae-a5df-0ab2a915aca0",
   "metadata": {},
   "outputs": [
    {
     "data": {
      "image/png": "[encoded data removed]",
      "text/plain": [
       "<Figure size 640x480 with 1 Axes>"
      ]
     },
     "metadata": {},
     "output_type": "display_data"
    }
   ],
   "source": [
    "plt.hist(np.sin(1/dataset**2), bins=100);"
   ]
  },
  {
   "cell_type": "markdown",
   "id": "a5e6380b-f5c7-4f9d-bbd2-d1e2bd516fd8",
   "metadata": {},
   "source": [
    "<br><br>\n",
    "\n",
    "The last one would have been hard to guess, and as long as we're in \"compute operation, plot, compute operation, plot\" mode, setting up `for` loops would be an imposition.\n",
    "\n",
    "<br><br>\n",
    "\n",
    "Array-oriented computations and interactivity go together. If you don't like Jupyter, consider IPython, the prompt, or IDE features that let you interact with data. Don't just run a script unless you've already set up your analysis!\n",
    "\n",
    "<br><br><br><br><br>"
   ]
  },
  {
   "cell_type": "markdown",
   "id": "d3a59814-6966-4c09-af07-d5eb93284b0e",
   "metadata": {},
   "source": [
    "## Basic Uproot analysis"
   ]
  },
  {
   "cell_type": "code",
   "execution_count": null,
   "id": "61292059-606b-45e6-aed6-f5992e135dd1",
   "metadata": {},
   "outputs": [],
   "source": []
  }
 ],
 "metadata": {
  "kernelspec": {
   "display_name": "Python 3 (ipykernel)",
   "language": "python",
   "name": "python3"
  },
  "language_info": {
   "codemirror_mode": {
    "name": "ipython",
    "version": 3
   },
   "file_extension": ".py",
   "mimetype": "text/x-python",
   "name": "python",
   "nbconvert_exporter": "python",
   "pygments_lexer": "ipython3",
   "version": "3.10.6"
  }
 },
 "nbformat": 4,
 "nbformat_minor": 5
}
