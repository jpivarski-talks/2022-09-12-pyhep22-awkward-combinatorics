{
 "cells": [
  {
   "cell_type": "markdown",
   "id": "4187e701-98e8-4fe3-9078-c760baf51000",
   "metadata": {},
   "source": [
    "# Uproot, Awkward Array, hist, Vector: from basics to combinatorics"
   ]
  },
  {
   "cell_type": "markdown",
   "id": "a088ca05-1907-4f46-ae6b-ec8b6f76a995",
   "metadata": {},
   "source": [
    "This is an introduction to doing particle physics analysis with Scikit-HEP tools: Uproot, Awkward Array, hist, and Vector in particular.\n",
    "\n",
    "It starts at a basic level—exploring files, making plots—and ramps up to resolving e⁺e⁻e⁺e⁻, μ⁺μ⁻μ⁺μ⁻, and e⁺e⁻μ⁺μ⁻ final states in Higgs decays.\n",
    "\n",
    "Due to time constraints, this is not a tutorial with exercises for you to try. But I've given 10 such tutorials in the modern era (Awkward Array version ≥ 1), which you can find online:\n",
    "\n",
    "| <!-- --> | <!-- --> | <!-- --> | <!-- --> | <!-- --> |\n",
    "|:--|:--|:--|:--|:--|\n",
    "| 2020 | EIC collaboration tutorial | | [notebooks](https://github.com/jpivarski-talks/2020-04-08-eic-jlab#readme) | [video](https://www.youtube.com/watch?v=FoxNS6nlbD0) |\n",
    "| 2020 | CMS HATS tutorial | | [notebooks](https://github.com/jpivarski/2020-06-08-uproot-awkward-columnar-hats#readme) | |\n",
    "| 2020 | SciPy talk | non-HEP | [notebooks](https://github.com/jpivarski-talks/2020-07-06-scipy2020/blob/master/bikeroutes-execution.ipynb) | [video](https://youtu.be/WlnUF3LRBj4) |\n",
    "| 2020 | PyHEP tutorial | | [notebooks](https://github.com/jpivarski/2020-07-13-pyhep2020-tutorial#readme) | [video](https://youtu.be/ea-zYLQBS4U) |\n",
    "| 2021 | CMS HATS tutorial | | [notebooks](https://github.com/jpivarski-talks/2021-06-14-uproot-awkward-columnar-hats#readme) | |\n",
    "| 2021 | PyHEP tutorial | | [notebooks](https://github.com/jpivarski-talks/2021-07-06-pyhep-uproot-awkward-tutorial#readme) | [video](https://youtu.be/s47Nz0h0vcg) |\n",
    "| 2021 | STAR collaboration tutorial | | [notebooks](https://github.com/jpivarski-talks/2021-09-13-star-uproot-awkward-tutorial#readme) | |\n",
    "| 2022 | PyHEP topical meeting | | [notebooks](https://indico.cern.ch/event/1140031/) | |\n",
    "| 2022 | SciPy tutorial | non-HEP | [notebooks](https://github.com/jpivarski-talks/2022-07-11-scipy-loopy-tutorial#readme) | [video](https://youtu.be/Dovyd72eD70) |\n",
    "| 2022 | CoDaS-HEP tutorial | | [notebooks](https://github.com/jpivarski-talks/2022-08-03-codas-hep-columnar-tutorial#readme) | |\n",
    "\n",
    "as well as [HSF training events](https://hepsoftwarefoundation.org/Schools/events.html), featuring an [Uproot module](https://hsf-training.github.io/hsf-training-uproot-webpage/) and a [Scikit-HEP module](https://hsf-training.github.io/hsf-training-scikit-hep-webpage/).\n",
    "\n",
    "This presentation uses the current versions of Uproot, Awkward Array, hist, and Vector that you would get from pip:\n",
    "\n",
    "```bash\n",
    "pip install uproot awkward hist[plot] vector\n",
    "```\n",
    "\n",
    "- uproot 4.3.5\n",
    "- awkward 1.9.0\n",
    "- hist 2.6.1\n",
    "- vector 0.10.0\n",
    "\n",
    "Note that new major versions are in development, to be released in December 2022 (uproot 5.0, awkward 2.0, vector 1.0), but the code in this notebook will still work in the new versions, though the outputs will look a little different (better)."
   ]
  },
  {
   "cell_type": "code",
   "execution_count": 1,
   "id": "109053c3-3074-4bd5-954f-24673d832630",
   "metadata": {},
   "outputs": [],
   "source": [
    "import uproot"
   ]
  },
  {
   "cell_type": "code",
   "execution_count": 2,
   "id": "73a09d9e-ea86-49c7-87f4-8b2149d546ae",
   "metadata": {},
   "outputs": [],
   "source": [
    "import awkward as ak"
   ]
  },
  {
   "cell_type": "markdown",
   "id": "33241fa2-e22c-47cc-9757-0ac86e7ae521",
   "metadata": {},
   "source": [
    "<br><br><br><br><br>"
   ]
  },
  {
   "cell_type": "markdown",
   "id": "54c4a955-f443-4b12-8153-ec6ffe5e1006",
   "metadata": {},
   "source": [
    "## Overview"
   ]
  },
  {
   "cell_type": "markdown",
   "id": "e2d3f297-0501-4c9c-8888-ea3c5c0cf9ad",
   "metadata": {},
   "source": [
    "Just as in the broader Python world, functionality in Scikit-HEP is provided by small, specialized, interoperating libraries that build on each other."
   ]
  },
  {
   "cell_type": "markdown",
   "id": "dcc9b413-1a4d-4227-8721-360e705f2169",
   "metadata": {},
   "source": [
    "<table width=\"1000px\"><tr style=\"background: white\">\n",
    "    <td align=\"center\" width=\"50%\" style=\"font-size: 24px; font-weight: bold\">Scientific Python ecosystem</td>\n",
    "    <td align=\"center\" width=\"50%\" style=\"font-size: 24px; font-weight: bold\">Scikit-HEP ecosystem</td>\n",
    "</tr><tr style=\"background: white\">\n",
    "    <td align=\"center\" width=\"50%\"><img src=\"img/shells-border.png\" width=\"95%\"></td>\n",
    "    <td align=\"center\" width=\"50%\"><img src=\"img/shells-hep.svg\" width=\"95%\"></td>\n",
    "</tr></table>\n",
    "\n",
    "<br><br><br><br><br>"
   ]
  },
  {
   "cell_type": "markdown",
   "id": "aef55d11-9b51-42de-b424-5f345f9452bf",
   "metadata": {},
   "source": [
    "## Libraries used in this talk"
   ]
  },
  {
   "cell_type": "markdown",
   "id": "bfab4fd2-cbcf-47a9-ad73-c99def888088",
   "metadata": {},
   "source": [
    "<br><br>\n",
    "\n",
    "<img src=\"img/uproot-logo.png\" width=\"200px\">\n",
    "\n",
    "<p style=\"font-size: 14pt\">Reads ROOT data as <span style=\"background: yellow\">arrays</span>.</p>\n",
    "\n",
    "<br><br>\n",
    "\n",
    "<img src=\"img/awkward-logo.png\" width=\"200px\">\n",
    "\n",
    "<p style=\"font-size: 14pt\">Manipulates <span style=\"background: yellow\">arrays</span> of arbitrary data structures.</p>\n",
    "\n",
    "<br><br>\n",
    "\n",
    "<img src=\"img/vector-logo.png\" width=\"200px\">\n",
    "\n",
    "<p style=\"font-size: 14pt\">Transforms <span style=\"background: yellow\">arrays</span> of 2D, 3D, and Lorentz vectors.</p>\n",
    "\n",
    "<br><br>\n",
    "\n",
    "<img src=\"img/hist-logo.png\" width=\"200px\">\n",
    "\n",
    "<p style=\"font-size: 14pt\">Fills histograms from <span style=\"background: yellow\">arrays</span> of data.</p>\n",
    "\n",
    "<br><br>\n",
    "\n",
    "<b>Using them effectively will require thinking about whole arrays at a time.</b>\n",
    "\n",
    "<br><br><br>"
   ]
  },
  {
   "cell_type": "markdown",
   "id": "39b4384b-49fb-431a-add8-7a44e46fc35c",
   "metadata": {},
   "source": [
    "## Array-at-a-time thinking and interactivity"
   ]
  },
  {
   "cell_type": "markdown",
   "id": "31200110-52a2-4113-b90e-e94102bdfa14",
   "metadata": {},
   "source": [
    "There's a long history of _array-oriented_ languages, which take arrays as the fundamental data type."
   ]
  },
  {
   "cell_type": "markdown",
   "id": "94983d0a-ab0a-4892-9a25-b5e709f0e933",
   "metadata": {},
   "source": [
    "<img src=\"img/apl-timeline.svg\" width=\"800\">\n",
    "\n",
    "<br><br><br>"
   ]
  },
  {
   "cell_type": "markdown",
   "id": "a21f49c2-7069-41f1-9e6b-9b16ddf6f0da",
   "metadata": {},
   "source": [
    "Interestingly enough, they all (except Fortran 90 and Dex) are _interactive_, command-line or notebook-driven languages.\n",
    "\n",
    "<br>\n",
    "\n",
    "It's because they focus on problems in which we want to know what happens to whole distributions, not individual values.\n",
    "\n",
    "<br>\n",
    "\n",
    "For example,"
   ]
  },
  {
   "cell_type": "code",
   "execution_count": 3,
   "id": "d7a3ddad-11ac-41fb-a6d8-dd1d160d7409",
   "metadata": {},
   "outputs": [],
   "source": [
    "import numpy as np\n",
    "import matplotlib.pyplot as plt"
   ]
  },
  {
   "cell_type": "markdown",
   "id": "6bb4da3e-1e33-4352-8e53-de17b35339c1",
   "metadata": {},
   "source": [
    "<br><br>\n",
    "\n",
    "Suppose we start with a Gaussian-distributed dataset."
   ]
  },
  {
   "cell_type": "code",
   "execution_count": 4,
   "id": "2fabf753-9a41-4989-8104-6d417e6ab950",
   "metadata": {},
   "outputs": [],
   "source": [
    "dataset = np.random.normal(0, 1, 1000000)  # one MILLION data points"
   ]
  },
  {
   "cell_type": "markdown",
   "id": "bec3b4c7-91a0-4445-ac82-fde52b7e470c",
   "metadata": {},
   "source": [
    "<br><br>\n",
    "\n",
    "\"How are they distributed?\""
   ]
  },
  {
   "cell_type": "code",
   "execution_count": 5,
   "id": "8cb71688-9e50-4ef5-93a5-9c2762f917fd",
   "metadata": {},
   "outputs": [
    {
     "data": {
      "image/png": "[encoded data removed]",
      "text/plain": [
       "<Figure size 640x480 with 1 Axes>"
      ]
     },
     "metadata": {},
     "output_type": "display_data"
    }
   ],
   "source": [
    "plt.hist(dataset, bins=100);"
   ]
  },
  {
   "cell_type": "markdown",
   "id": "ac34fe07-1010-4658-9d8a-a3b33a1a20d2",
   "metadata": {},
   "source": [
    "<br><br>\n",
    "\n",
    "\"How is the square of each point distributed?\""
   ]
  },
  {
   "cell_type": "code",
   "execution_count": 6,
   "id": "d650e80e-4c4e-4205-85c7-ab7ceb74f8f4",
   "metadata": {},
   "outputs": [
    {
     "data": {
      "image/png": "[encoded data removed]",
      "text/plain": [
       "<Figure size 640x480 with 1 Axes>"
      ]
     },
     "metadata": {},
     "output_type": "display_data"
    }
   ],
   "source": [
    "plt.hist(dataset**2, bins=100);"
   ]
  },
  {
   "cell_type": "markdown",
   "id": "eb96d11b-2c17-4509-8658-15737d952ffa",
   "metadata": {},
   "source": [
    "<br><br>\n",
    "\n",
    "\"What about this weirdo function?\""
   ]
  },
  {
   "cell_type": "code",
   "execution_count": 7,
   "id": "e8843bee-d3aa-40ae-a5df-0ab2a915aca0",
   "metadata": {},
   "outputs": [
    {
     "data": {
      "image/png": "[encoded data removed]",
      "text/plain": [
       "<Figure size 640x480 with 1 Axes>"
      ]
     },
     "metadata": {},
     "output_type": "display_data"
    }
   ],
   "source": [
    "plt.hist(np.sin(1/dataset**2), bins=100);"
   ]
  },
  {
   "cell_type": "markdown",
   "id": "a5e6380b-f5c7-4f9d-bbd2-d1e2bd516fd8",
   "metadata": {},
   "source": [
    "<br><br>\n",
    "\n",
    "The shape of the last distribution would have been hard to guess, and as long as we're in \"compute operation, plot, compute operation, plot\" mode, setting up `for` loops would be a hindrance.\n",
    "\n",
    "<br><br>\n",
    "\n",
    "Array-oriented computations and interactivity go together. If you don't like Jupyter, consider IPython, the basic Python prompt, or IDE features that let you interact with an ongoing session. Don't just run a script until you've already figured out the details of your project.\n",
    "\n",
    "<br><br><br><br><br>"
   ]
  },
  {
   "cell_type": "markdown",
   "id": "d3a59814-6966-4c09-af07-d5eb93284b0e",
   "metadata": {},
   "source": [
    "## Exploring a file with Uproot"
   ]
  },
  {
   "cell_type": "markdown",
   "id": "db3d2276-5fe4-4237-852c-ffc9c49a1bf2",
   "metadata": {},
   "source": [
    "Uproot is a reimplementation of ROOT I/O in Python, with no dependence on C++ ROOT."
   ]
  },
  {
   "cell_type": "markdown",
   "id": "fef73c2d-283c-4ebd-9200-5dd7bd998ac8",
   "metadata": {},
   "source": [
    "<img src=\"img/abstraction-layers.svg\" width=\"800\">\n",
    "\n",
    "<br><br><br>"
   ]
  },
  {
   "cell_type": "markdown",
   "id": "539dfd85-97f2-4f98-bf58-b51e3db69c67",
   "metadata": {},
   "source": [
    "\"Where's my file?\"\n",
    "\n",
    "(Executing shell commands with `!` is a Jupyter/IPython thing.)"
   ]
  },
  {
   "cell_type": "code",
   "execution_count": 8,
   "id": "d9abe970-c356-4015-b745-884812204ec2",
   "metadata": {},
   "outputs": [
    {
     "name": "stdout",
     "output_type": "stream",
     "text": [
      "total 752\n",
      "drwxr-xr-x   3 jpivarski  staff      96 Sep 11 12:48 \u001b[34mdata\u001b[m\u001b[m\n",
      "drwxr-xr-x  10 jpivarski  staff     320 Sep 11 12:49 \u001b[34mimg\u001b[m\u001b[m\n",
      "-rw-r--r--   1 jpivarski  staff  381051 Sep 11 16:05 pyhep2022-uproot-and-awkward-array.ipynb\n"
     ]
    }
   ],
   "source": [
    "!ls -l"
   ]
  },
  {
   "cell_type": "code",
   "execution_count": 9,
   "id": "f640b2ec-f390-44f7-8cf9-2af9abc1790f",
   "metadata": {},
   "outputs": [
    {
     "name": "stdout",
     "output_type": "stream",
     "text": [
      "total 82816\n",
      "-rw-r--r--  1 jpivarski  staff  42400229 Sep 11 12:48 SMHiggsToZZTo4L.root\n"
     ]
    }
   ],
   "source": [
    "!ls -l data"
   ]
  },
  {
   "cell_type": "markdown",
   "id": "30f7c6fe-f52f-404a-bdbe-f6da1af2e5f0",
   "metadata": {},
   "source": [
    "<br><br>\n",
    "\n",
    "\"Open it in Uproot.\""
   ]
  },
  {
   "cell_type": "code",
   "execution_count": 10,
   "id": "3aaa37de-4dfd-43dc-8ae8-bcc71195dea3",
   "metadata": {},
   "outputs": [
    {
     "data": {
      "text/plain": [
       "<ReadOnlyDirectory '/' at 0x000127ae79d0>"
      ]
     },
     "execution_count": 10,
     "metadata": {},
     "output_type": "execute_result"
    }
   ],
   "source": [
    "file = uproot.open(\"data/SMHiggsToZZTo4L.root\")\n",
    "file"
   ]
  },
  {
   "cell_type": "markdown",
   "id": "9f492326-970a-4377-8b98-97dce984fb46",
   "metadata": {},
   "source": [
    "<br><br>\n",
    "\n",
    "\"What's in the file?\""
   ]
  },
  {
   "cell_type": "code",
   "execution_count": 11,
   "id": "b40fdb35-3203-4da1-a415-6943c5b91f90",
   "metadata": {},
   "outputs": [
    {
     "data": {
      "text/plain": [
       "['Events;1']"
      ]
     },
     "execution_count": 11,
     "metadata": {},
     "output_type": "execute_result"
    }
   ],
   "source": [
    "file.keys()"
   ]
  },
  {
   "cell_type": "markdown",
   "id": "caeef5d6-c5eb-4478-9fd0-409a7db9e382",
   "metadata": {},
   "source": [
    "<br><br>\n",
    "\n",
    "\"What kind of object is 'Events'?\""
   ]
  },
  {
   "cell_type": "code",
   "execution_count": 12,
   "id": "5b141aa9-6d0f-4ef9-af75-f16589341a51",
   "metadata": {},
   "outputs": [
    {
     "data": {
      "text/plain": [
       "{'Events;1': 'TTree'}"
      ]
     },
     "execution_count": 12,
     "metadata": {},
     "output_type": "execute_result"
    }
   ],
   "source": [
    "file.classnames()"
   ]
  },
  {
   "cell_type": "markdown",
   "id": "54574f8d-b1ea-4652-a02d-3ba7f2db7916",
   "metadata": {},
   "source": [
    "<br><br>\n",
    "\n",
    "\"Get the TTree metadata (not the whole arrays; not yet).\""
   ]
  },
  {
   "cell_type": "code",
   "execution_count": 13,
   "id": "d3743938-0917-4c7f-b0fd-5d6e779f1b96",
   "metadata": {},
   "outputs": [
    {
     "data": {
      "text/plain": [
       "<TTree 'Events' (32 branches) at 0x00010814eb30>"
      ]
     },
     "execution_count": 13,
     "metadata": {},
     "output_type": "execute_result"
    }
   ],
   "source": [
    "tree = file[\"Events\"]\n",
    "tree"
   ]
  },
  {
   "cell_type": "code",
   "execution_count": 14,
   "id": "a4a199fe-a559-4ce4-b9cb-5bbc9ee4d01a",
   "metadata": {},
   "outputs": [
    {
     "data": {
      "text/plain": [
       "299973"
      ]
     },
     "execution_count": 14,
     "metadata": {},
     "output_type": "execute_result"
    }
   ],
   "source": [
    "tree.num_entries"
   ]
  },
  {
   "cell_type": "markdown",
   "id": "f1db9801-4e5a-4ce0-9198-370d7d7f0c11",
   "metadata": {},
   "source": [
    "<br><br>\n",
    "\n",
    "\"What kinds of data are in the TTree?\""
   ]
  },
  {
   "cell_type": "code",
   "execution_count": 15,
   "id": "eeb3cdd7-ed75-4aab-ab32-106c23afaa08",
   "metadata": {},
   "outputs": [
    {
     "name": "stdout",
     "output_type": "stream",
     "text": [
      "name                 | typename                 | interpretation                \n",
      "---------------------+--------------------------+-------------------------------\n",
      "run                  | int32_t                  | AsDtype('>i4')\n",
      "luminosityBlock      | uint32_t                 | AsDtype('>u4')\n",
      "event                | uint64_t                 | AsDtype('>u8')\n",
      "PV_npvs              | int32_t                  | AsDtype('>i4')\n",
      "PV_x                 | float                    | AsDtype('>f4')\n",
      "PV_y                 | float                    | AsDtype('>f4')\n",
      "PV_z                 | float                    | AsDtype('>f4')\n",
      "nMuon                | uint32_t                 | AsDtype('>u4')\n",
      "Muon_pt              | float[]                  | AsJagged(AsDtype('>f4'))\n",
      "Muon_eta             | float[]                  | AsJagged(AsDtype('>f4'))\n",
      "Muon_phi             | float[]                  | AsJagged(AsDtype('>f4'))\n",
      "Muon_mass            | float[]                  | AsJagged(AsDtype('>f4'))\n",
      "Muon_charge          | int32_t[]                | AsJagged(AsDtype('>i4'))\n",
      "Muon_pfRelIso03_all  | float[]                  | AsJagged(AsDtype('>f4'))\n",
      "Muon_pfRelIso04_all  | float[]                  | AsJagged(AsDtype('>f4'))\n",
      "Muon_dxy             | float[]                  | AsJagged(AsDtype('>f4'))\n",
      "Muon_dxyErr          | float[]                  | AsJagged(AsDtype('>f4'))\n",
      "Muon_dz              | float[]                  | AsJagged(AsDtype('>f4'))\n",
      "Muon_dzErr           | float[]                  | AsJagged(AsDtype('>f4'))\n",
      "nElectron            | uint32_t                 | AsDtype('>u4')\n",
      "Electron_pt          | float[]                  | AsJagged(AsDtype('>f4'))\n",
      "Electron_eta         | float[]                  | AsJagged(AsDtype('>f4'))\n",
      "Electron_phi         | float[]                  | AsJagged(AsDtype('>f4'))\n",
      "Electron_mass        | float[]                  | AsJagged(AsDtype('>f4'))\n",
      "Electron_charge      | int32_t[]                | AsJagged(AsDtype('>i4'))\n",
      "Electron_pfRelIso... | float[]                  | AsJagged(AsDtype('>f4'))\n",
      "Electron_dxy         | float[]                  | AsJagged(AsDtype('>f4'))\n",
      "Electron_dxyErr      | float[]                  | AsJagged(AsDtype('>f4'))\n",
      "Electron_dz          | float[]                  | AsJagged(AsDtype('>f4'))\n",
      "Electron_dzErr       | float[]                  | AsJagged(AsDtype('>f4'))\n",
      "MET_pt               | float                    | AsDtype('>f4')\n",
      "MET_phi              | float                    | AsDtype('>f4')\n"
     ]
    }
   ],
   "source": [
    "tree.show()"
   ]
  },
  {
   "cell_type": "markdown",
   "id": "24d7549d-f64f-4230-b293-bca21f934cad",
   "metadata": {},
   "source": [
    "<br><br>\n",
    "\n",
    "\"Can I get that information programmatically?\"\n",
    "\n",
    "(Yes.)"
   ]
  },
  {
   "cell_type": "code",
   "execution_count": 16,
   "id": "af16bb0c-66a7-4308-ae4e-206f57c4cff6",
   "metadata": {},
   "outputs": [
    {
     "data": {
      "text/plain": [
       "{'run': 'int32_t',\n",
       " 'luminosityBlock': 'uint32_t',\n",
       " 'event': 'uint64_t',\n",
       " 'PV_npvs': 'int32_t',\n",
       " 'PV_x': 'float',\n",
       " 'PV_y': 'float',\n",
       " 'PV_z': 'float',\n",
       " 'nMuon': 'uint32_t',\n",
       " 'Muon_pt': 'float[]',\n",
       " 'Muon_eta': 'float[]',\n",
       " 'Muon_phi': 'float[]',\n",
       " 'Muon_mass': 'float[]',\n",
       " 'Muon_charge': 'int32_t[]',\n",
       " 'Muon_pfRelIso03_all': 'float[]',\n",
       " 'Muon_pfRelIso04_all': 'float[]',\n",
       " 'Muon_dxy': 'float[]',\n",
       " 'Muon_dxyErr': 'float[]',\n",
       " 'Muon_dz': 'float[]',\n",
       " 'Muon_dzErr': 'float[]',\n",
       " 'nElectron': 'uint32_t',\n",
       " 'Electron_pt': 'float[]',\n",
       " 'Electron_eta': 'float[]',\n",
       " 'Electron_phi': 'float[]',\n",
       " 'Electron_mass': 'float[]',\n",
       " 'Electron_charge': 'int32_t[]',\n",
       " 'Electron_pfRelIso03_all': 'float[]',\n",
       " 'Electron_dxy': 'float[]',\n",
       " 'Electron_dxyErr': 'float[]',\n",
       " 'Electron_dz': 'float[]',\n",
       " 'Electron_dzErr': 'float[]',\n",
       " 'MET_pt': 'float',\n",
       " 'MET_phi': 'float'}"
      ]
     },
     "execution_count": 16,
     "metadata": {},
     "output_type": "execute_result"
    }
   ],
   "source": [
    "{key: branch.typename for key, branch in tree.items()}"
   ]
  },
  {
   "cell_type": "markdown",
   "id": "8dd57d94-9a40-4be6-95ac-325dadd73ee6",
   "metadata": {},
   "source": [
    "<br><br>\n",
    "\n",
    "\"Read the muon $p_T$, $\\eta$, $\\phi$, and mass into arrays (and nothing else!).\"\n",
    "\n",
    "This is the first _expensive_ operation, where you might have to wait."
   ]
  },
  {
   "cell_type": "code",
   "execution_count": 17,
   "id": "143437f7-dd0d-4cb2-a967-5cc7da5107af",
   "metadata": {},
   "outputs": [
    {
     "data": {
      "text/plain": [
       "<Array [{Muon_pt: [63, ... Muon_charge: []}] type='299973 * {\"Muon_pt\": var * fl...'>"
      ]
     },
     "execution_count": 17,
     "metadata": {},
     "output_type": "execute_result"
    }
   ],
   "source": [
    "muon_kinematics = tree.arrays([\"Muon_pt\", \"Muon_eta\", \"Muon_phi\", \"Muon_mass\", \"Muon_charge\"])\n",
    "muon_kinematics"
   ]
  },
  {
   "cell_type": "markdown",
   "id": "c11a1be1-369f-4524-ab4f-953a64f0d44f",
   "metadata": {},
   "source": [
    "<br><br>"
   ]
  },
  {
   "cell_type": "markdown",
   "id": "5f78f135-67d4-4b31-97d0-346a0f59581b",
   "metadata": {},
   "source": [
    "Note that there's a way to limit how much you read/how long you have to wait while Uproot fetches data:"
   ]
  },
  {
   "cell_type": "code",
   "execution_count": 75,
   "id": "95837846-7d20-4b07-a952-fbcc78c924eb",
   "metadata": {},
   "outputs": [
    {
     "data": {
      "text/plain": [
       "<Array [{run: 1, ... MET_phi: -2.27}] type='100 * {\"run\": int32, \"luminosityBloc...'>"
      ]
     },
     "execution_count": 75,
     "metadata": {},
     "output_type": "execute_result"
    }
   ],
   "source": [
    "tree.arrays(entry_start=0, entry_stop=100)"
   ]
  },
  {
   "cell_type": "markdown",
   "id": "d5408df3-b26a-4395-b57d-e3caa3b7822b",
   "metadata": {},
   "source": [
    "<br><br>\n",
    "\n",
    "This is an Awkward Array. NumPy can't represent this dataset because there's a different number of muons in each event."
   ]
  },
  {
   "cell_type": "code",
   "execution_count": 73,
   "id": "5fecf60d-3c86-4cc1-bdef-6de2b8822f16",
   "metadata": {},
   "outputs": [
    {
     "data": {
      "text/plain": [
       "[{'Muon_pt': [63.04386901855469, 38.12034606933594, 4.04868745803833],\n",
       "  'Muon_eta': [-0.7186822295188904, -0.8794569969177246, -0.320764422416687],\n",
       "  'Muon_phi': [2.968005895614624, -1.0324749946594238, 1.0385035276412964],\n",
       "  'Muon_mass': [0.10565836727619171, 0.10565836727619171, 0.10565836727619171],\n",
       "  'Muon_charge': [1, -1, 1]},\n",
       " {'Muon_pt': [],\n",
       "  'Muon_eta': [],\n",
       "  'Muon_phi': [],\n",
       "  'Muon_mass': [],\n",
       "  'Muon_charge': []},\n",
       " {'Muon_pt': [],\n",
       "  'Muon_eta': [],\n",
       "  'Muon_phi': [],\n",
       "  'Muon_mass': [],\n",
       "  'Muon_charge': []}]"
      ]
     },
     "execution_count": 73,
     "metadata": {},
     "output_type": "execute_result"
    }
   ],
   "source": [
    "muon_kinematics[:3].to_list()"
   ]
  },
  {
   "cell_type": "markdown",
   "id": "fc6a2547-2bc4-4fb2-ad56-cffe11cd7aba",
   "metadata": {},
   "source": [
    "<br><br>\n",
    "\n",
    "\"Extract columns/fields from the already-read data.\""
   ]
  },
  {
   "cell_type": "code",
   "execution_count": 19,
   "id": "084b30ba-e3f9-45a5-9489-bcbbb1c559db",
   "metadata": {},
   "outputs": [
    {
     "data": {
      "text/plain": [
       "['Muon_pt', 'Muon_eta', 'Muon_phi', 'Muon_mass', 'Muon_charge']"
      ]
     },
     "execution_count": 19,
     "metadata": {},
     "output_type": "execute_result"
    }
   ],
   "source": [
    "muon_kinematics.fields"
   ]
  },
  {
   "cell_type": "code",
   "execution_count": 20,
   "id": "a9aa2817-a737-4bdd-82df-f944326f4526",
   "metadata": {},
   "outputs": [
    {
     "data": {
      "text/plain": [
       "<Array [[63, 38.1, 4.05], ... 4.75], [], []] type='299973 * var * float32'>"
      ]
     },
     "execution_count": 20,
     "metadata": {},
     "output_type": "execute_result"
    }
   ],
   "source": [
    "muon_kinematics.Muon_pt"
   ]
  },
  {
   "cell_type": "code",
   "execution_count": 21,
   "id": "ff3dfc47-9d26-4dba-888a-375e555eb541",
   "metadata": {},
   "outputs": [
    {
     "data": {
      "text/plain": [
       "<Array [[-0.719, -0.879, -0.321], ... [], []] type='299973 * var * float32'>"
      ]
     },
     "execution_count": 21,
     "metadata": {},
     "output_type": "execute_result"
    }
   ],
   "source": [
    "muon_kinematics.Muon_eta"
   ]
  },
  {
   "cell_type": "code",
   "execution_count": 22,
   "id": "b66d2bee-0e64-4733-82ba-6326990cece4",
   "metadata": {},
   "outputs": [
    {
     "data": {
      "text/plain": [
       "<Array [[2.97, -1.03, 1.04], ... [], []] type='299973 * var * float32'>"
      ]
     },
     "execution_count": 22,
     "metadata": {},
     "output_type": "execute_result"
    }
   ],
   "source": [
    "muon_kinematics.Muon_phi"
   ]
  },
  {
   "cell_type": "code",
   "execution_count": 23,
   "id": "98bae042-270d-499d-bf46-9c34dcb0280e",
   "metadata": {},
   "outputs": [
    {
     "data": {
      "text/plain": [
       "<Array [[0.106, 0.106, 0.106], ... [], []] type='299973 * var * float32'>"
      ]
     },
     "execution_count": 23,
     "metadata": {},
     "output_type": "execute_result"
    }
   ],
   "source": [
    "muon_kinematics.Muon_mass"
   ]
  },
  {
   "cell_type": "code",
   "execution_count": 24,
   "id": "e00ce610-cb49-40fc-8e85-d1135acd4a2b",
   "metadata": {},
   "outputs": [
    {
     "data": {
      "text/plain": [
       "<Array [[1, -1, 1], [], ... 1, 1], [], []] type='299973 * var * int32'>"
      ]
     },
     "execution_count": 24,
     "metadata": {},
     "output_type": "execute_result"
    }
   ],
   "source": [
    "muon_kinematics.Muon_charge"
   ]
  },
  {
   "cell_type": "markdown",
   "id": "509bcda0-7336-4777-897c-d57cc45021f0",
   "metadata": {
    "tags": []
   },
   "source": [
    "<br><br>\n",
    "\n",
    "\"What is the data type?\""
   ]
  },
  {
   "cell_type": "code",
   "execution_count": 25,
   "id": "8469f5cf-8032-4497-937e-411c4c749d72",
   "metadata": {},
   "outputs": [
    {
     "name": "stdout",
     "output_type": "stream",
     "text": [
      "299973 * {\"Muon_pt\": var * float32, \"Muon_eta\": var * float32, \"Muon_phi\": var * float32, \"Muon_mass\": var * float32, \"Muon_charge\": var * int32}\n"
     ]
    }
   ],
   "source": [
    "print(muon_kinematics.type)"
   ]
  },
  {
   "cell_type": "markdown",
   "id": "67809494-df34-450e-81ed-44577ebd6659",
   "metadata": {},
   "source": [
    "<br><br>\n",
    "\n",
    "\"Which columns in the TTree have anything to do with muons or electrons?\""
   ]
  },
  {
   "cell_type": "code",
   "execution_count": 26,
   "id": "a986b5ad-f81d-4bfe-b121-c814fc145dac",
   "metadata": {},
   "outputs": [
    {
     "data": {
      "text/plain": [
       "['Muon_pt',\n",
       " 'Muon_eta',\n",
       " 'Muon_phi',\n",
       " 'Muon_mass',\n",
       " 'Muon_charge',\n",
       " 'Muon_pfRelIso03_all',\n",
       " 'Muon_pfRelIso04_all',\n",
       " 'Muon_dxy',\n",
       " 'Muon_dxyErr',\n",
       " 'Muon_dz',\n",
       " 'Muon_dzErr',\n",
       " 'Electron_pt',\n",
       " 'Electron_eta',\n",
       " 'Electron_phi',\n",
       " 'Electron_mass',\n",
       " 'Electron_charge',\n",
       " 'Electron_pfRelIso03_all',\n",
       " 'Electron_dxy',\n",
       " 'Electron_dxyErr',\n",
       " 'Electron_dz',\n",
       " 'Electron_dzErr']"
      ]
     },
     "execution_count": 26,
     "metadata": {},
     "output_type": "execute_result"
    }
   ],
   "source": [
    "tree.keys(filter_name=[\"Muon_*\", \"Electron_*\"])"
   ]
  },
  {
   "cell_type": "markdown",
   "id": "156e0da4-f7a9-4e36-9f3b-7d92d6fb25fe",
   "metadata": {},
   "source": [
    "<br><br>\n",
    "\n",
    "\"Read all of those columns into arrays, using the same `filter_name`.\""
   ]
  },
  {
   "cell_type": "code",
   "execution_count": 27,
   "id": "54de7383-cee5-4ac1-878d-8818db562bdf",
   "metadata": {},
   "outputs": [
    {
     "data": {
      "text/plain": [
       "<Array [{Muon_pt: [63, 38.1, ... 0.00558]}] type='299973 * {\"Muon_pt\": var * flo...'>"
      ]
     },
     "execution_count": 27,
     "metadata": {},
     "output_type": "execute_result"
    }
   ],
   "source": [
    "muons_and_electrons = tree.arrays(filter_name=[\"Muon_*\", \"Electron_*\"])\n",
    "muons_and_electrons"
   ]
  },
  {
   "cell_type": "markdown",
   "id": "8cf00e93-ffb4-40b9-92b1-03b479f37352",
   "metadata": {},
   "source": [
    "<br><br>\n",
    "\n",
    "\"Show me the type of this larger dataset.\""
   ]
  },
  {
   "cell_type": "code",
   "execution_count": 28,
   "id": "07a6ca94-cebb-4290-8898-231e38be1b3c",
   "metadata": {},
   "outputs": [
    {
     "name": "stdout",
     "output_type": "stream",
     "text": [
      "299973 * {\"Muon_pt\": var * float32, \"Muon_eta\": var * float32, \"Muon_phi\": var * float32, \"Muon_mass\": var * float32, \"Muon_charge\": var * int32, \"Muon_pfRelIso03_all\": var * float32, \"Muon_pfRelIso04_all\": var * float32, \"Muon_dxy\": var * float32, \"Muon_dxyErr\": var * float32, \"Muon_dz\": var * float32, \"Muon_dzErr\": var * float32, \"Electron_pt\": var * float32, \"Electron_eta\": var * float32, \"Electron_phi\": var * float32, \"Electron_mass\": var * float32, \"Electron_charge\": var * int32, \"Electron_pfRelIso03_all\": var * float32, \"Electron_dxy\": var * float32, \"Electron_dxyErr\": var * float32, \"Electron_dz\": var * float32, \"Electron_dzErr\": var * float32}\n"
     ]
    }
   ],
   "source": [
    "print(muons_and_electrons.type)"
   ]
  },
  {
   "cell_type": "markdown",
   "id": "96c268c1-49d9-4855-9b07-cde04d1f342b",
   "metadata": {},
   "source": [
    "<br><br><br><br><br>"
   ]
  },
  {
   "cell_type": "markdown",
   "id": "76ec487b-bab2-40c4-bc8b-1b4509b45228",
   "metadata": {},
   "source": [
    "## Examining distributions with hist"
   ]
  },
  {
   "cell_type": "markdown",
   "id": "28f46bfa-b0e3-4888-8cd0-637fef5252dc",
   "metadata": {},
   "source": [
    "NumPy and Matplotlib both have `histogram` (or `hist`) functions, but these are _display_ options. In particle physics, we almost always want a histogram object that we can fill in parallel, redraw without refilling, etc. Even weighted histograms with error bars require more than what NumPy and Matplotlib give us.\n",
    "\n",
    "So although"
   ]
  },
  {
   "cell_type": "code",
   "execution_count": 29,
   "id": "9407d390-b84f-4c5e-9ee5-077b6c3d8e09",
   "metadata": {},
   "outputs": [
    {
     "data": {
      "image/png": "[encoded data removed]",
      "text/plain": [
       "<Figure size 640x480 with 1 Axes>"
      ]
     },
     "metadata": {},
     "output_type": "display_data"
    }
   ],
   "source": [
    "plt.hist(ak.flatten(muon_kinematics.Muon_pt), bins=100, range=(0, 150));"
   ]
  },
  {
   "cell_type": "markdown",
   "id": "a9dbf34d-6ba8-412f-9022-fab42512bbf1",
   "metadata": {},
   "source": [
    "works, you probably want"
   ]
  },
  {
   "cell_type": "code",
   "execution_count": 30,
   "id": "ccaffce6-3cd6-49b7-98bd-0f9b9029e9f4",
   "metadata": {},
   "outputs": [],
   "source": [
    "import hist"
   ]
  },
  {
   "cell_type": "code",
   "execution_count": 31,
   "id": "98c8e0e0-9b09-4301-b1d4-a02b9eb499db",
   "metadata": {},
   "outputs": [
    {
     "data": {
      "image/png": "[encoded data removed]",
      "text/plain": [
       "<Figure size 640x480 with 1 Axes>"
      ]
     },
     "metadata": {},
     "output_type": "display_data"
    }
   ],
   "source": [
    "h = hist.Hist.new.Regular(100, 0, 150, name=\"muon pT\").Double()\n",
    "\n",
    "h.fill(ak.flatten(muon_kinematics.Muon_pt))\n",
    "\n",
    "h.plot();"
   ]
  },
  {
   "cell_type": "markdown",
   "id": "7970a058-1772-47b4-86ce-9b6e40aeb0ee",
   "metadata": {},
   "source": [
    "<br><br><br>\n",
    "\n",
    "Or even"
   ]
  },
  {
   "cell_type": "code",
   "execution_count": 32,
   "id": "b3e8d144-31b6-4e8c-8f9e-5c917ae50cdc",
   "metadata": {},
   "outputs": [
    {
     "data": {
      "image/png": "[encoded data removed]",
      "text/plain": [
       "<Figure size 640x480 with 1 Axes>"
      ]
     },
     "metadata": {},
     "output_type": "display_data"
    }
   ],
   "source": [
    "(\n",
    "    hist.Hist.new.Regular(100, 0, 150, name=\"muon pT\").Weight()\n",
    "        .fill(\n",
    "            ak.flatten(muon_kinematics.Muon_pt),\n",
    "            weight=ak.flatten(muon_kinematics.Muon_pt),\n",
    "        )\n",
    "        .plot()\n",
    ");"
   ]
  },
  {
   "cell_type": "markdown",
   "id": "8a0ab4cd-5e01-4d5b-9b94-68022915a402",
   "metadata": {},
   "source": [
    "<br><br><br>"
   ]
  },
  {
   "cell_type": "markdown",
   "id": "d1d51748-55cd-401e-88a7-56f6abe2f30d",
   "metadata": {},
   "source": [
    "### What is `ak.flatten`?"
   ]
  },
  {
   "cell_type": "markdown",
   "id": "e9f62c7d-88a5-438f-af24-cfb4aef5681a",
   "metadata": {},
   "source": [
    "In both of the above examples, we didn't just plot"
   ]
  },
  {
   "cell_type": "code",
   "execution_count": 33,
   "id": "1038e219-3c00-4295-a140-126365166a3f",
   "metadata": {},
   "outputs": [
    {
     "data": {
      "text/plain": [
       "<Array [[63, 38.1, 4.05], ... 4.75], [], []] type='299973 * var * float32'>"
      ]
     },
     "execution_count": 33,
     "metadata": {},
     "output_type": "execute_result"
    }
   ],
   "source": [
    "muon_kinematics.Muon_pt"
   ]
  },
  {
   "cell_type": "markdown",
   "id": "f785a128-30e3-4756-81ac-1edf1e8382a2",
   "metadata": {},
   "source": [
    "but"
   ]
  },
  {
   "cell_type": "code",
   "execution_count": 34,
   "id": "57b1f7f3-28fe-4222-8454-ca12010d2e37",
   "metadata": {},
   "outputs": [
    {
     "data": {
      "text/plain": [
       "<Array [63, 38.1, 4.05, ... 4.36, 5.63, 4.75] type='441394 * float32'>"
      ]
     },
     "execution_count": 34,
     "metadata": {},
     "output_type": "execute_result"
    }
   ],
   "source": [
    "ak.flatten(muon_kinematics.Muon_pt)"
   ]
  },
  {
   "cell_type": "markdown",
   "id": "7f79508f-0412-426a-868c-561f41f0c04a",
   "metadata": {},
   "source": [
    "<br><br>\n",
    "\n",
    "The first array is an array of _lists_. To fill a histogram, you need an array of _numbers_. `ak.flatten` removes the list structure.\n",
    "\n",
    "<br><br>\n",
    "\n",
    "There are other ways of removing the list structure, depending on what you're trying to do:"
   ]
  },
  {
   "cell_type": "code",
   "execution_count": 35,
   "id": "57ff969f-ce45-44a1-b523-dae0e02f2242",
   "metadata": {},
   "outputs": [
    {
     "data": {
      "text/plain": [
       "<Array [105, 0, 0, 152, ... 75.6, 19.1, 0, 0] type='299973 * float32'>"
      ]
     },
     "execution_count": 35,
     "metadata": {},
     "output_type": "execute_result"
    }
   ],
   "source": [
    "ak.sum(muon_kinematics.Muon_pt, axis=1)"
   ]
  },
  {
   "cell_type": "code",
   "execution_count": 36,
   "id": "fa86366d-bcaa-4a33-afae-a4282fed72f3",
   "metadata": {},
   "outputs": [
    {
     "data": {
      "image/png": "[encoded data removed]",
      "text/plain": [
       "<Figure size 640x480 with 1 Axes>"
      ]
     },
     "metadata": {},
     "output_type": "display_data"
    }
   ],
   "source": [
    "(\n",
    "    hist.Hist.new.Regular(100, 0, 150, name=\"muon pT\").Double()\n",
    "        .fill(ak.sum(muon_kinematics.Muon_pt, axis=1))\n",
    "        .plot()\n",
    ");\n",
    "plt.yscale(\"log\");"
   ]
  },
  {
   "cell_type": "markdown",
   "id": "43baf6c4-e8d1-4a80-90b8-86591df03049",
   "metadata": {},
   "source": [
    "<br><br>"
   ]
  },
  {
   "cell_type": "code",
   "execution_count": 37,
   "id": "c48592d7-10aa-4ef7-94e3-432f56358a13",
   "metadata": {},
   "outputs": [
    {
     "data": {
      "text/plain": [
       "<Array [63, None, None, ... 5.63, None, None] type='299973 * ?float32'>"
      ]
     },
     "execution_count": 37,
     "metadata": {},
     "output_type": "execute_result"
    }
   ],
   "source": [
    "ak.max(muon_kinematics.Muon_pt, axis=1)"
   ]
  },
  {
   "cell_type": "code",
   "execution_count": 38,
   "id": "e4321689-b6e9-4a49-9839-8ce32533b2d3",
   "metadata": {},
   "outputs": [
    {
     "data": {
      "text/plain": [
       "<Array [63, 0, 0, 54.3, ... 43.1, 5.63, 0, 0] type='299973 * float64'>"
      ]
     },
     "execution_count": 38,
     "metadata": {},
     "output_type": "execute_result"
    }
   ],
   "source": [
    "ak.fill_none(ak.max(muon_kinematics.Muon_pt, axis=1), 0)"
   ]
  },
  {
   "cell_type": "code",
   "execution_count": 39,
   "id": "b3ec201d-2f4f-4f12-ae04-c22e66f9b7e3",
   "metadata": {},
   "outputs": [
    {
     "data": {
      "image/png": "[encoded data removed]",
      "text/plain": [
       "<Figure size 640x480 with 1 Axes>"
      ]
     },
     "metadata": {},
     "output_type": "display_data"
    }
   ],
   "source": [
    "(\n",
    "    hist.Hist.new.Regular(100, 0, 150, name=\"muon pT\").Double()\n",
    "        .fill(ak.fill_none(ak.max(muon_kinematics.Muon_pt, axis=1), 0))\n",
    "        .plot()\n",
    ");\n",
    "plt.yscale(\"log\");"
   ]
  },
  {
   "cell_type": "markdown",
   "id": "bdbccf91-dd04-411d-95a8-496f2222a500",
   "metadata": {},
   "source": [
    "<br><br><br><br><br>"
   ]
  },
  {
   "cell_type": "markdown",
   "id": "9b894b49-9e4b-4c97-8f2d-1bd1ee595963",
   "metadata": {},
   "source": [
    "## Computing vector coordinates"
   ]
  },
  {
   "cell_type": "markdown",
   "id": "fbb59bf2-f942-4a77-adda-4e6d61bb82ac",
   "metadata": {},
   "source": [
    "We can compute coordinate transformations and invariant masses manually, using NumPy's array-at-a-time functions."
   ]
  },
  {
   "cell_type": "code",
   "execution_count": 40,
   "id": "1cb60002-7b64-43c0-82fb-2417e887a036",
   "metadata": {},
   "outputs": [],
   "source": [
    "px = muon_kinematics.Muon_pt * np.cos(muon_kinematics.Muon_phi)\n",
    "py = muon_kinematics.Muon_pt * np.sin(muon_kinematics.Muon_phi)\n",
    "pz = muon_kinematics.Muon_pt * np.sinh(muon_kinematics.Muon_eta)"
   ]
  },
  {
   "cell_type": "code",
   "execution_count": 41,
   "id": "51fd95b7-fc3c-4605-baab-deeff49bf53a",
   "metadata": {},
   "outputs": [
    {
     "data": {
      "text/plain": [
       "<Array [[-62.1, 19.5, 2.05], ... [], []] type='299973 * var * float32'>"
      ]
     },
     "execution_count": 41,
     "metadata": {},
     "output_type": "execute_result"
    }
   ],
   "source": [
    "px"
   ]
  },
  {
   "cell_type": "code",
   "execution_count": 42,
   "id": "4a7afefe-133f-4434-a232-38e2ba80abf2",
   "metadata": {},
   "outputs": [
    {
     "data": {
      "text/plain": [
       "<Array [[10.9, -32.7, 3.49], ... [], []] type='299973 * var * float32'>"
      ]
     },
     "execution_count": 42,
     "metadata": {},
     "output_type": "execute_result"
    }
   ],
   "source": [
    "py"
   ]
  },
  {
   "cell_type": "code",
   "execution_count": 43,
   "id": "17228761-b0f5-44ac-aba7-55d5fd0b1fb5",
   "metadata": {},
   "outputs": [
    {
     "data": {
      "text/plain": [
       "<Array [[-49.3, -38, -1.32], ... [], []] type='299973 * var * float32'>"
      ]
     },
     "execution_count": 43,
     "metadata": {},
     "output_type": "execute_result"
    }
   ],
   "source": [
    "pz"
   ]
  },
  {
   "cell_type": "code",
   "execution_count": 44,
   "id": "ea6c9c50-0a3f-45d6-ae74-47f09c460b6c",
   "metadata": {},
   "outputs": [
    {
     "data": {
      "image/png": "[encoded data removed]",
      "text/plain": [
       "<Figure size 640x480 with 2 Axes>"
      ]
     },
     "metadata": {},
     "output_type": "display_data"
    }
   ],
   "source": [
    "(\n",
    "    hist.Hist.new.Regular(100, -25, 25, name=\"px\").Regular(100, -25, 25, name=\"py\").Double()\n",
    "        .fill(ak.flatten(px), ak.flatten(py))\n",
    "        .plot()\n",
    ");"
   ]
  },
  {
   "cell_type": "code",
   "execution_count": 45,
   "id": "2f64b9df-af72-4209-bfe7-3288356e7eab",
   "metadata": {},
   "outputs": [
    {
     "data": {
      "image/png": "[encoded data removed]",
      "text/plain": [
       "<Figure size 640x480 with 3 Axes>"
      ]
     },
     "metadata": {},
     "output_type": "display_data"
    }
   ],
   "source": [
    "(\n",
    "    hist.Hist.new.Regular(100, -50, 50, name=\"pz\").Regular(100, 0, 15, name=\"pt\").Double()\n",
    "        .fill(ak.flatten(pz), ak.flatten(np.sqrt(px**2 + py**2)))\n",
    "        .plot2d_full()\n",
    ");"
   ]
  },
  {
   "cell_type": "markdown",
   "id": "77c53c30-46e1-470c-8b0d-caddab9635a9",
   "metadata": {},
   "source": [
    "<br><br><br>\n",
    "\n",
    "But you'd probably rather use the Vector library."
   ]
  },
  {
   "cell_type": "code",
   "execution_count": 46,
   "id": "acff9e48-bf70-423b-b522-f0a6b9e51169",
   "metadata": {},
   "outputs": [],
   "source": [
    "import vector"
   ]
  },
  {
   "cell_type": "code",
   "execution_count": 47,
   "id": "b38f512e-e232-48c8-a573-7b6d14216b70",
   "metadata": {},
   "outputs": [
    {
     "data": {
      "text/plain": [
       "<MomentumArray4D [[{rho: 63, phi: 2.97, ... [], []] type='299973 * var * Momentu...'>"
      ]
     },
     "execution_count": 47,
     "metadata": {},
     "output_type": "execute_result"
    }
   ],
   "source": [
    "muons = vector.arr(\n",
    "    ak.zip({\n",
    "        \"pt\": muon_kinematics.Muon_pt,\n",
    "        \"eta\": muon_kinematics.Muon_eta,\n",
    "        \"phi\": muon_kinematics.Muon_phi,\n",
    "        \"mass\": muon_kinematics.Muon_mass,\n",
    "        \"charge\": muon_kinematics.Muon_charge,  # not necessary for momentum\n",
    "    })\n",
    ")\n",
    "muons"
   ]
  },
  {
   "cell_type": "markdown",
   "id": "7e33b9da-51ea-469d-bd2b-6206025c5395",
   "metadata": {},
   "source": [
    "<br><br><br>\n",
    "\n",
    "Note that each `Momentum4D` vector has a single numerical value for each coordinate:"
   ]
  },
  {
   "cell_type": "code",
   "execution_count": 48,
   "id": "4e713376-9e9f-481c-8b53-90b9263472c3",
   "metadata": {},
   "outputs": [
    {
     "name": "stdout",
     "output_type": "stream",
     "text": [
      "[{rho: 63, phi: 2.97, eta: -0.719, tau: 0.106, ... tau: 0.106, charge: 1}]\n"
     ]
    }
   ],
   "source": [
    "print(muons[0])"
   ]
  },
  {
   "cell_type": "markdown",
   "id": "cd465cad-2eac-4367-b910-4bb6ec4fba9a",
   "metadata": {},
   "source": [
    "whereas the original `muon_kinematics` had _lists_ of each coordinate:"
   ]
  },
  {
   "cell_type": "code",
   "execution_count": 49,
   "id": "b2b0e602-1e5e-4761-a786-6111ac85e7eb",
   "metadata": {},
   "outputs": [
    {
     "name": "stdout",
     "output_type": "stream",
     "text": [
      "... 2.97, -1.03, 1.04], Muon_mass: [0.106, 0.106, 0.106], Muon_charge: [1, -1, 1]}\n"
     ]
    }
   ],
   "source": [
    "print(muon_kinematics[0])"
   ]
  },
  {
   "cell_type": "markdown",
   "id": "36de85d6-48f9-4c08-a358-45ecd6bf3c7d",
   "metadata": {},
   "source": [
    "<br><br><br>\n",
    "\n",
    "That's what the `ak.zip` function does: it combines nested lists of the same lengths into lists of records."
   ]
  },
  {
   "cell_type": "code",
   "execution_count": 50,
   "id": "92775652-61aa-4762-9804-3abffcb81f36",
   "metadata": {},
   "outputs": [
    {
     "name": "stdout",
     "output_type": "stream",
     "text": [
      "[{a: [1, 2], b: [1.1, 2.2]}, {a: [], b: []}, {a: [3], b: [3.3]}]\n"
     ]
    }
   ],
   "source": [
    "print(ak.Array({\"a\": [[1, 2], [], [3]], \"b\": [[1.1, 2.2], [], [3.3]]}))"
   ]
  },
  {
   "cell_type": "code",
   "execution_count": 51,
   "id": "2bfb29c9-56f7-4a3b-9494-1de45685eaca",
   "metadata": {},
   "outputs": [
    {
     "name": "stdout",
     "output_type": "stream",
     "text": [
      "[[{a: 1, b: 1.1}, {a: 2, b: 2.2}], [], [{a: 3, b: 3.3}]]\n"
     ]
    }
   ],
   "source": [
    "print(ak.zip({\"a\": [[1, 2], [], [3]], \"b\": [[1.1, 2.2], [], [3.3]]}))"
   ]
  },
  {
   "cell_type": "markdown",
   "id": "988293c6-d604-4a62-b263-034e9d98c771",
   "metadata": {},
   "source": [
    "<br><br><br>\n",
    "\n",
    "The other function, `vector.arr`, interprets records with specially named fields as coordinates of vectors."
   ]
  },
  {
   "cell_type": "code",
   "execution_count": 52,
   "id": "c023b4e0-9cf4-4c5a-ba04-1ca10dfc66b5",
   "metadata": {},
   "outputs": [
    {
     "data": {
      "text/plain": [
       "<VectorArray2D [[{x: 1, y: 1.1}, ... x: 3, y: 3.3}]] type='3 * var * Vector2D[\"x...'>"
      ]
     },
     "execution_count": 52,
     "metadata": {},
     "output_type": "execute_result"
    }
   ],
   "source": [
    "vector.arr([[{\"x\": 1, \"y\": 1.1}, {\"x\": 2, \"y\": 2.2}], [], [{\"x\": 3, \"y\": 3.3}]])"
   ]
  },
  {
   "cell_type": "code",
   "execution_count": 53,
   "id": "df452814-179a-4ba2-89b4-605d0c045382",
   "metadata": {},
   "outputs": [
    {
     "data": {
      "text/plain": [
       "<MomentumArray2D [[{x: 1, y: 1.1}, ... x: 3, y: 3.3}]] type='3 * var * Momentum2...'>"
      ]
     },
     "execution_count": 53,
     "metadata": {},
     "output_type": "execute_result"
    }
   ],
   "source": [
    "vector.arr([[{\"px\": 1, \"py\": 1.1}, {\"px\": 2, \"py\": 2.2}], [], [{\"px\": 3, \"py\": 3.3}]])"
   ]
  },
  {
   "cell_type": "markdown",
   "id": "90e75629-05e6-4283-a1f7-72c5ba0382fe",
   "metadata": {},
   "source": [
    "<br><br><br>\n",
    "\n",
    "Arrays of vectors have methods and properties to convert between coordinates."
   ]
  },
  {
   "cell_type": "code",
   "execution_count": 54,
   "id": "e39cc280-7fa9-428b-b34f-dbee51ee9517",
   "metadata": {},
   "outputs": [
    {
     "data": {
      "text/plain": [
       "<Array [[-62.1, 19.5, 2.05], ... [], []] type='299973 * var * float32'>"
      ]
     },
     "execution_count": 54,
     "metadata": {},
     "output_type": "execute_result"
    }
   ],
   "source": [
    "muons.px"
   ]
  },
  {
   "cell_type": "code",
   "execution_count": 55,
   "id": "604d8ff3-f001-4b01-a5d8-477784807896",
   "metadata": {},
   "outputs": [
    {
     "data": {
      "text/plain": [
       "<Array [[10.9, -32.7, 3.49], ... [], []] type='299973 * var * float32'>"
      ]
     },
     "execution_count": 55,
     "metadata": {},
     "output_type": "execute_result"
    }
   ],
   "source": [
    "muons.py"
   ]
  },
  {
   "cell_type": "code",
   "execution_count": 56,
   "id": "ba2b513d-fc74-4c21-aedb-824fcb06f9f8",
   "metadata": {},
   "outputs": [
    {
     "data": {
      "text/plain": [
       "<Array [[-49.3, -38, -1.32], ... [], []] type='299973 * var * float32'>"
      ]
     },
     "execution_count": 56,
     "metadata": {},
     "output_type": "execute_result"
    }
   ],
   "source": [
    "muons.pz"
   ]
  },
  {
   "cell_type": "code",
   "execution_count": 57,
   "id": "f8b7c473-0059-4689-b5ca-c50f97f29ce2",
   "metadata": {},
   "outputs": [
    {
     "data": {
      "text/plain": [
       "<Array [[80, 53.8, 4.26], ... 18.2], [], []] type='299973 * var * float32'>"
      ]
     },
     "execution_count": 57,
     "metadata": {},
     "output_type": "execute_result"
    }
   ],
   "source": [
    "muons.energy"
   ]
  },
  {
   "cell_type": "code",
   "execution_count": 58,
   "id": "bd7cb131-53a7-40fd-97c0-ad2320cbba74",
   "metadata": {},
   "outputs": [
    {
     "data": {
      "image/png": "[encoded data removed]",
      "text/plain": [
       "<Figure size 640x480 with 3 Axes>"
      ]
     },
     "metadata": {},
     "output_type": "display_data"
    }
   ],
   "source": [
    "(\n",
    "    hist.Hist.new.Regular(100, -50, 50, name=\"pz\").Regular(100, 0, 15, name=\"pt\").Double()\n",
    "        .fill(ak.flatten(muons.pz), ak.flatten(muons.pt))\n",
    "        .plot2d_full()\n",
    ");"
   ]
  },
  {
   "cell_type": "markdown",
   "id": "ec4d6246-dafd-4e23-b070-8ba30cf7d7cb",
   "metadata": {},
   "source": [
    "<br><br><br><br><br>"
   ]
  },
  {
   "cell_type": "markdown",
   "id": "0ca17b50-9f02-4533-b51c-18bf0e7f68b9",
   "metadata": {},
   "source": [
    "## Reconstructing the Z boson mass"
   ]
  },
  {
   "cell_type": "markdown",
   "id": "085ddf3c-95d6-4ccb-ab3b-815d90769b9e",
   "metadata": {},
   "source": [
    "Now let's do some analysis-like stuff.\n",
    "\n",
    "If two muons are the decay products of a Z boson, the mass of the sum of those two muons is the Z boson mass."
   ]
  },
  {
   "cell_type": "code",
   "execution_count": 59,
   "id": "b960eb2a-6402-424a-bf7c-ee5f66a705a4",
   "metadata": {},
   "outputs": [
    {
     "data": {
      "text/plain": [
       "<MomentumRecord4D ... tau: 0.106, charge: 1} type='Momentum4D[\"rho\": float32, \"p...'>"
      ]
     },
     "execution_count": 59,
     "metadata": {},
     "output_type": "execute_result"
    }
   ],
   "source": [
    "muons[0, 0]"
   ]
  },
  {
   "cell_type": "code",
   "execution_count": 60,
   "id": "b80dea34-91b5-42a6-a22b-58214e3345d3",
   "metadata": {},
   "outputs": [
    {
     "data": {
      "text/plain": [
       "<MomentumRecord4D ... tau: 0.106, charge: -1} type='Momentum4D[\"rho\": float32, \"...'>"
      ]
     },
     "execution_count": 60,
     "metadata": {},
     "output_type": "execute_result"
    }
   ],
   "source": [
    "muons[0, 1]"
   ]
  },
  {
   "cell_type": "code",
   "execution_count": 61,
   "id": "6bd6cd76-ce6c-437c-a109-04f19e3919d9",
   "metadata": {},
   "outputs": [
    {
     "data": {
      "text/plain": [
       "89.4919204711914"
      ]
     },
     "execution_count": 61,
     "metadata": {},
     "output_type": "execute_result"
    }
   ],
   "source": [
    "(muons[0, 0] + muons[0, 1]).mass"
   ]
  },
  {
   "cell_type": "markdown",
   "id": "71bb0a10-8614-4888-a5b6-12d33d3e2a44",
   "metadata": {},
   "source": [
    "<br><br><br>\n",
    "\n",
    "We can vectorize this calculation by selecting all events (first dimension) and only muon number `0` or `1` (second dimension)."
   ]
  },
  {
   "cell_type": "code",
   "execution_count": 62,
   "id": "360da8d0-443d-4a71-8d06-89e9712eb196",
   "metadata": {
    "tags": [
     "raises-exception"
    ]
   },
   "outputs": [
    {
     "ename": "ValueError",
     "evalue": "in ListOffsetArray64 attempting to get 0, index out of range\n\n(https://github.com/scikit-hep/awkward-1.0/blob/1.9.0/src/cpu-kernels/awkward_NumpyArray_getitem_next_at.cpp#L21)",
     "output_type": "error",
     "traceback": [
      "\u001b[0;31m---------------------------------------------------------------------------\u001b[0m",
      "\u001b[0;31mValueError\u001b[0m                                Traceback (most recent call last)",
      "Cell \u001b[0;32mIn [62], line 1\u001b[0m\n\u001b[0;32m----> 1\u001b[0m \u001b[43mmuons\u001b[49m\u001b[43m[\u001b[49m\u001b[43m:\u001b[49m\u001b[43m,\u001b[49m\u001b[43m \u001b[49m\u001b[38;5;241;43m0\u001b[39;49m\u001b[43m]\u001b[49m, muons[:, \u001b[38;5;241m1\u001b[39m]\n",
      "File \u001b[0;32m~/mambaforge/lib/python3.10/site-packages/awkward/highlevel.py:991\u001b[0m, in \u001b[0;36mArray.__getitem__\u001b[0;34m(self, where)\u001b[0m\n\u001b[1;32m    579\u001b[0m \u001b[38;5;124;03m\"\"\"\u001b[39;00m\n\u001b[1;32m    580\u001b[0m \u001b[38;5;124;03mArgs:\u001b[39;00m\n\u001b[1;32m    581\u001b[0m \u001b[38;5;124;03m    where (many types supported; see below): Index of positions to\u001b[39;00m\n\u001b[0;32m   (...)\u001b[0m\n\u001b[1;32m    988\u001b[0m \u001b[38;5;124;03mhave the same dimension as the array being indexed.\u001b[39;00m\n\u001b[1;32m    989\u001b[0m \u001b[38;5;124;03m\"\"\"\u001b[39;00m\n\u001b[1;32m    990\u001b[0m \u001b[38;5;28;01mif\u001b[39;00m \u001b[38;5;129;01mnot\u001b[39;00m \u001b[38;5;28mhasattr\u001b[39m(\u001b[38;5;28mself\u001b[39m, \u001b[38;5;124m\"\u001b[39m\u001b[38;5;124m_tracers\u001b[39m\u001b[38;5;124m\"\u001b[39m):\n\u001b[0;32m--> 991\u001b[0m     tmp \u001b[38;5;241m=\u001b[39m ak\u001b[38;5;241m.\u001b[39m_util\u001b[38;5;241m.\u001b[39mwrap(\u001b[38;5;28;43mself\u001b[39;49m\u001b[38;5;241;43m.\u001b[39;49m\u001b[43mlayout\u001b[49m\u001b[43m[\u001b[49m\u001b[43mwhere\u001b[49m\u001b[43m]\u001b[49m, \u001b[38;5;28mself\u001b[39m\u001b[38;5;241m.\u001b[39m_behavior)\n\u001b[1;32m    992\u001b[0m \u001b[38;5;28;01melse\u001b[39;00m:\n\u001b[1;32m    993\u001b[0m     tmp \u001b[38;5;241m=\u001b[39m ak\u001b[38;5;241m.\u001b[39m_connect\u001b[38;5;241m.\u001b[39m_jax\u001b[38;5;241m.\u001b[39mjax_utils\u001b[38;5;241m.\u001b[39m_jaxtracers_getitem(\u001b[38;5;28mself\u001b[39m, where)\n",
      "\u001b[0;31mValueError\u001b[0m: in ListOffsetArray64 attempting to get 0, index out of range\n\n(https://github.com/scikit-hep/awkward-1.0/blob/1.9.0/src/cpu-kernels/awkward_NumpyArray_getitem_next_at.cpp#L21)"
     ]
    }
   ],
   "source": [
    "muons[:, 0], muons[:, 1]"
   ]
  },
  {
   "cell_type": "markdown",
   "id": "16120ac5-6fd7-4bc6-a37e-2b82bc5da49e",
   "metadata": {},
   "source": [
    "<br><br><br>\n",
    "\n",
    "It didn't work because some events don't have two—or even one—muon.\n",
    "\n",
    "<br><br><br>\n",
    "\n",
    "\"How many muons does each event have?\""
   ]
  },
  {
   "cell_type": "code",
   "execution_count": 63,
   "id": "d09c0864-06f0-428c-8016-ac4e87b59b2c",
   "metadata": {},
   "outputs": [
    {
     "data": {
      "text/plain": [
       "<Array [3, 0, 0, 7, 0, 2, ... 0, 2, 2, 4, 0, 0] type='299973 * int64'>"
      ]
     },
     "execution_count": 63,
     "metadata": {},
     "output_type": "execute_result"
    }
   ],
   "source": [
    "ak.num(muons)"
   ]
  },
  {
   "cell_type": "markdown",
   "id": "c7e611ed-06e6-4fb7-8c43-0ddec173f20a",
   "metadata": {},
   "source": [
    "<br><br><br>\n",
    "\n",
    "\"Which events have at least two muons?\""
   ]
  },
  {
   "cell_type": "code",
   "execution_count": 64,
   "id": "0d3aacf1-e4ce-40a2-ad44-f6ac0ec01f33",
   "metadata": {},
   "outputs": [
    {
     "data": {
      "text/plain": [
       "<Array [True, False, False, ... False, False] type='299973 * bool'>"
      ]
     },
     "execution_count": 64,
     "metadata": {},
     "output_type": "execute_result"
    }
   ],
   "source": [
    "ak.num(muons) >= 2"
   ]
  },
  {
   "cell_type": "markdown",
   "id": "f6e2e050-d0c3-424b-a184-ef2b57f368b8",
   "metadata": {},
   "source": [
    "<br><br><br>\n",
    "\n",
    "\"Select events with at least two muons.\""
   ]
  },
  {
   "cell_type": "code",
   "execution_count": 65,
   "id": "425c0456-ff78-49b0-8d55-1ae41c26ce07",
   "metadata": {},
   "outputs": [
    {
     "data": {
      "text/plain": [
       "<Array [3, 7, 2, 2, 2, 2, ... 2, 2, 2, 2, 2, 4] type='145597 * int64'>"
      ]
     },
     "execution_count": 65,
     "metadata": {},
     "output_type": "execute_result"
    }
   ],
   "source": [
    "at_least_2 = muons[ak.num(muons) >= 2]\n",
    "\n",
    "ak.num(at_least_2)"
   ]
  },
  {
   "cell_type": "markdown",
   "id": "59381a63-41b9-44d4-a0f9-937db56faeaa",
   "metadata": {},
   "source": [
    "(Notice that there are fewer of these events.)"
   ]
  },
  {
   "cell_type": "markdown",
   "id": "123b7001-03b8-4e68-8599-28728177ca64",
   "metadata": {},
   "source": [
    "<br><br><br>\n",
    "\n",
    "Now we can get the first and second muons of these events."
   ]
  },
  {
   "cell_type": "code",
   "execution_count": 66,
   "id": "6588e052-e869-43c6-8752-c88e832bb347",
   "metadata": {},
   "outputs": [],
   "source": [
    "mu1 = at_least_2[:, 0]\n",
    "mu2 = at_least_2[:, 1]"
   ]
  },
  {
   "cell_type": "markdown",
   "id": "9dded1e0-0f05-457f-b62f-c6734b319993",
   "metadata": {},
   "source": [
    "<br><br><br>\n",
    "\n",
    "And compute the invariant mass."
   ]
  },
  {
   "cell_type": "code",
   "execution_count": 67,
   "id": "3a847427-84af-4b79-a93d-1bafa2122114",
   "metadata": {},
   "outputs": [
    {
     "data": {
      "text/plain": [
       "<Array [89.5, 29.8, 87.1, ... 27.9, 90.5, 2.4] type='145597 * float32'>"
      ]
     },
     "execution_count": 67,
     "metadata": {},
     "output_type": "execute_result"
    }
   ],
   "source": [
    "(mu1 + mu2).mass"
   ]
  },
  {
   "cell_type": "code",
   "execution_count": 68,
   "id": "21e462b9-0188-438d-b75b-03a1a4118b49",
   "metadata": {},
   "outputs": [
    {
     "data": {
      "image/png": "[encoded data removed]",
      "text/plain": [
       "<Figure size 640x480 with 1 Axes>"
      ]
     },
     "metadata": {},
     "output_type": "display_data"
    }
   ],
   "source": [
    "(\n",
    "    hist.Hist.new.Regular(100, 0, 150, name=\"muon pT\").Double()\n",
    "        .fill((mu1 + mu2).mass)\n",
    "        .plot()\n",
    ");"
   ]
  },
  {
   "cell_type": "markdown",
   "id": "b89b3508-eda3-4ef5-b7af-b834f0e632b3",
   "metadata": {},
   "source": [
    "Question to ponder: why did the above not need an `ak.flatten`?"
   ]
  },
  {
   "cell_type": "markdown",
   "id": "85e9de73-6b19-4c4b-936b-d60489b42715",
   "metadata": {},
   "source": [
    "<br><br><br><br><br>"
   ]
  },
  {
   "cell_type": "markdown",
   "id": "427e86d4-df30-4a4c-82f2-72f18524aa48",
   "metadata": {},
   "source": [
    "### Physics cuts: opposite sign muons"
   ]
  },
  {
   "cell_type": "markdown",
   "id": "d08c041c-1646-4093-8c8d-f2c50d3df5d5",
   "metadata": {},
   "source": [
    "In the above, we included all first and second muons, regardless of whether they are μ⁺μ⁻, μ⁺μ⁺, or μ⁻μ⁻. Only μ⁺μ⁻ can be decay products of a Z boson.\n",
    "\n",
    "<br><br><br>\n",
    "\n",
    "\"Which of `mu1` and `mu2` have opposite charges?\""
   ]
  },
  {
   "cell_type": "code",
   "execution_count": 69,
   "id": "f48ed0a4-c2e4-41b6-8cd4-6537787ad9ec",
   "metadata": {},
   "outputs": [
    {
     "data": {
      "text/plain": [
       "<Array [True, True, True, ... True, True, True] type='145597 * bool'>"
      ]
     },
     "execution_count": 69,
     "metadata": {},
     "output_type": "execute_result"
    }
   ],
   "source": [
    "opposite_charges = mu1.charge != mu2.charge\n",
    "opposite_charges"
   ]
  },
  {
   "cell_type": "markdown",
   "id": "572cf715-4540-42a6-8c94-3345ecbd904d",
   "metadata": {},
   "source": [
    "<br><br><br>\n",
    "\n",
    "\"What does the distribution look like if we only use these?\""
   ]
  },
  {
   "cell_type": "code",
   "execution_count": 70,
   "id": "73306f48-3be1-45e6-82d7-c5a1b1d79fe2",
   "metadata": {},
   "outputs": [
    {
     "data": {
      "text/plain": [
       "<Array [89.5, 29.8, 87.1, ... 27.9, 90.5, 2.4] type='122744 * float32'>"
      ]
     },
     "execution_count": 70,
     "metadata": {},
     "output_type": "execute_result"
    }
   ],
   "source": [
    "(mu1[opposite_charges] + mu2[opposite_charges]).mass"
   ]
  },
  {
   "cell_type": "code",
   "execution_count": 72,
   "id": "39583827-6a97-435a-a438-8f3d1df6128b",
   "metadata": {},
   "outputs": [
    {
     "data": {
      "image/png": "[encoded data removed]",
      "text/plain": [
       "<Figure size 640x480 with 1 Axes>"
      ]
     },
     "metadata": {},
     "output_type": "display_data"
    }
   ],
   "source": [
    "# without a cut (blue)\n",
    "(\n",
    "    hist.Hist.new.Regular(100, 0, 150, name=\"muon pT\").Double()\n",
    "        .fill((mu1 + mu2).mass)\n",
    "        .plot()\n",
    ");\n",
    "# with a cut (orange)\n",
    "(\n",
    "    hist.Hist.new.Regular(100, 0, 150, name=\"muon pT\").Double()\n",
    "        .fill((mu1[opposite_charges] + mu2[opposite_charges]).mass)\n",
    "        .plot()\n",
    ");"
   ]
  },
  {
   "cell_type": "markdown",
   "id": "ccfa82a3-c6e8-4058-b950-4401c689ac7a",
   "metadata": {},
   "source": [
    "<br><br><br><br><br>"
   ]
  },
  {
   "cell_type": "markdown",
   "id": "d77fa7c9-6636-48b3-b3bd-97372d960511",
   "metadata": {},
   "source": [
    "## Particle combinatorics"
   ]
  }
 ],
 "metadata": {
  "kernelspec": {
   "display_name": "Python 3 (ipykernel)",
   "language": "python",
   "name": "python3"
  },
  "language_info": {
   "codemirror_mode": {
    "name": "ipython",
    "version": 3
   },
   "file_extension": ".py",
   "mimetype": "text/x-python",
   "name": "python",
   "nbconvert_exporter": "python",
   "pygments_lexer": "ipython3",
   "version": "3.10.6"
  }
 },
 "nbformat": 4,
 "nbformat_minor": 5
}
